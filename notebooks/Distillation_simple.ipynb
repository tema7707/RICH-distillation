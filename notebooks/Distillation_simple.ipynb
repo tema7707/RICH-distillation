{
 "cells": [
  {
   "cell_type": "markdown",
   "metadata": {},
   "source": [
    "# Train student GAN"
   ]
  },
  {
   "cell_type": "code",
   "execution_count": 2,
   "metadata": {},
   "outputs": [],
   "source": [
    "import torch_utils_rich_mrartemev as utils_rich\n",
    "import wandb\n",
    "import torch\n",
    "import torch.nn.functional as F\n",
    "import pandas as pd\n",
    "import seaborn as sns\n",
    "import numpy as np\n",
    "import matplotlib.pyplot as plt\n",
    "import os\n",
    "import scipy\n",
    "\n",
    "from sklearn.model_selection import train_test_split\n",
    "from sklearn.preprocessing import StandardScaler, MinMaxScaler\n",
    "from catboost import CatBoostClassifier, Pool\n",
    "\n",
    "from torch import nn\n",
    "from IPython.display import clear_output\n",
    "from tqdm import tqdm_notebook, tqdm\n",
    "from torch.autograd import Variable, grad\n",
    "from torch.utils.data import DataLoader\n",
    "\n",
    "from data import *\n",
    "\n",
    "\n",
    "%matplotlib inline"
   ]
  },
  {
   "cell_type": "markdown",
   "metadata": {},
   "source": [
    "## Configurations"
   ]
  },
  {
   "cell_type": "code",
   "execution_count": 3,
   "metadata": {},
   "outputs": [],
   "source": [
    "os.environ[\"CUDA_VISIBLE_DEVICES\"]=\"0\"\n",
    "\n",
    "PARTICLE_TYPE = 'pion'\n",
    "\n",
    "BATCH_SIZE = 20000\n",
    "BATCH_SIZE_VAL = 8192\n",
    "LATENT_DIMENSIONS = 64\n",
    "NOISE_SIZE = 64\n",
    "CRAMER_DIM = 512\n",
    "TEACHER_LAYERS = 10\n",
    "STUDENT_LAYERS = 2\n",
    "\n",
    "CRITIC_ITERATIONS_CONST = 10\n",
    "TOTAL_ITERATIONS = int(6e4) // 245\n",
    "VALIDATION_INTERVAL = 1000\n",
    "\n",
    "device = 'cuda' if torch.cuda.is_available() else 'cpu'\n",
    "weight_cliping_limit = 0.015"
   ]
  },
  {
   "cell_type": "markdown",
   "metadata": {},
   "source": [
    "## Data"
   ]
  },
  {
   "cell_type": "code",
   "execution_count": null,
   "metadata": {},
   "outputs": [
    {
     "name": "stdout",
     "output_type": "stream",
     "text": [
      "Reading and concatenating datasets:\n",
      "\t../data/data_calibsample/pion2_-_down_2016_.csv\n",
      "\t../data/data_calibsample/pion_+_down_2016_.csv\n",
      "\t../data/data_calibsample/pion_-_up_2016_.csv\n",
      "\t../data/data_calibsample/pion_-_down_2016_.csv\n",
      "\t../data/data_calibsample/pion2_+_down_2016_.csv\n",
      "\t../data/data_calibsample/pion2_-_up_2016_.csv\n",
      "\t../data/data_calibsample/pion_+_up_2016_.csv\n",
      "\t../data/data_calibsample/pion2_+_up_2016_.csv\n"
     ]
    }
   ],
   "source": [
    "data_train, data_val, scaler = utils_rich.get_merged_typed_dataset(PARTICLE_TYPE, dtype=np.float32, log=True)"
   ]
  },
  {
   "cell_type": "code",
   "execution_count": null,
   "metadata": {},
   "outputs": [],
   "source": [
    "data_train.head()"
   ]
  },
  {
   "cell_type": "code",
   "execution_count": null,
   "metadata": {},
   "outputs": [],
   "source": [
    "from itertools import repeat\n",
    "\n",
    "class ParticleSet(torch.utils.data.Dataset):\n",
    "    def __init__(self, data):\n",
    "        self.data = data\n",
    "    \n",
    "    def __len__(self):\n",
    "        return self.data.shape[0]\n",
    "    \n",
    "    def __getitem__(self, ind):\n",
    "        return (self.data[ind, utils_rich.y_count:-1], # X\n",
    "                self.data[ind, -1], # Weight\n",
    "                self.data[ind, :utils_rich.y_count], # DLL\n",
    "               )\n",
    "    \n",
    "train_loader = torch.utils.data.DataLoader(ParticleSet(data_train.values),\n",
    "                                                    batch_size=BATCH_SIZE,\n",
    "                                                    shuffle=True,\n",
    "                                                    pin_memory=True)\n",
    "\n",
    "val_loader = torch.utils.data.DataLoader(ParticleSet(data_val.values),\n",
    "                                                  batch_size=BATCH_SIZE_VAL,\n",
    "                                                  shuffle=False,\n",
    "                                                  pin_memory=True)"
   ]
  },
  {
   "cell_type": "markdown",
   "metadata": {},
   "source": [
    "## Model"
   ]
  },
  {
   "cell_type": "code",
   "execution_count": null,
   "metadata": {},
   "outputs": [],
   "source": [
    "def get_noise(batch_size, mean=0, std=1):\n",
    "    return torch.zeros(batch_size, LATENT_DIMENSIONS).normal_(mean, std).to(device)\n",
    "\n",
    "class Generator(nn.Module):\n",
    "    def __init__(self, hidden_size=128, depth=5):\n",
    "        super(Generator, self).__init__()\n",
    "        self.layers = nn.Sequential(\n",
    "            nn.Linear(LATENT_DIMENSIONS + data_train.shape[1] - 1 - utils_rich.y_count, hidden_size),\n",
    "            nn.LeakyReLU(),\n",
    "            *[nn.Sequential(\n",
    "                nn.utils.weight_norm(nn.Linear(hidden_size, hidden_size)),\n",
    "                nn.LeakyReLU()) for _ in range(depth)\n",
    "             ],\n",
    "            nn.Linear(hidden_size, utils_rich.y_count),\n",
    "        )\n",
    "\n",
    "    def forward(self, x, noise=None):\n",
    "        return self.layers(torch.cat([x, get_noise(x.shape[0])], dim=1))\n",
    "\n",
    "    \n",
    "class Critic(nn.Module):\n",
    "    def __init__(self, hidden_size=128, depth=5):\n",
    "        super(Critic, self).__init__()\n",
    "        self.layers = nn.Sequential(\n",
    "            nn.Linear(data_train.shape[1] - 1, hidden_size),\n",
    "            nn.LeakyReLU(),\n",
    "            *[nn.Sequential(nn.Linear(hidden_size, hidden_size), nn.LeakyReLU()) for _ in range(depth)],\n",
    "            nn.Linear(hidden_size, 1),\n",
    "        )\n",
    "\n",
    "    def forward(self, x):\n",
    "        return self.layers(x)\n",
    "    \n",
    "    def get_after_n(self, x, n):\n",
    "        for idx, (name, layer) in enumerate(self._modules.items()):\n",
    "            x = layer(x)\n",
    "            if idx == n:\n",
    "                break\n",
    "        return x\n",
    "\n",
    "def init_weights(m):\n",
    "    if type(m) == nn.Linear:\n",
    "        torch.nn.init.xavier_uniform_(m.weight)\n",
    "        m.bias.data.fill_(0.01)"
   ]
  },
  {
   "cell_type": "code",
   "execution_count": null,
   "metadata": {},
   "outputs": [],
   "source": [
    "G = Generator(depth=TEACHER_LAYERS).to(device)\n",
    "G.apply(init_weights)\n",
    "\n",
    "C = Critic(depth=TEACHER_LAYERS).to(device)\n",
    "C.apply(init_weights)\n",
    "\n",
    "G_student = Generator(depth=STUDENT_LAYERS).to(device)\n",
    "G_student.apply(init_weights)\n",
    "\n",
    "C_student = Critic(depth=STUDENT_LAYERS).to(device)\n",
    "C_student.apply(init_weights);"
   ]
  },
  {
   "cell_type": "code",
   "execution_count": null,
   "metadata": {},
   "outputs": [],
   "source": [
    "optimizerC = torch.optim.RMSprop(C_student.parameters(), lr=0.00005) \n",
    "optimizerG = torch.optim.RMSprop(G_student.parameters(), lr=0.00005) \n",
    "\n",
    "C.load_state_dict(torch.load('C_teacher_10_u.pth'))\n",
    "G.load_state_dict(torch.load('G_teacher_10_u.pth'))\n",
    "\n",
    "C.to(device)\n",
    "G.to(device)\n",
    "\n",
    "C_student.to(device)\n",
    "G_student.to(device);"
   ]
  },
  {
   "cell_type": "code",
   "execution_count": null,
   "metadata": {},
   "outputs": [],
   "source": [
    "C_student.load_state_dict(torch.load('C_distillation_10_l1.pth'))\n",
    "G_student.load_state_dict(torch.load('G_distillation_10_l1.pth'))"
   ]
  },
  {
   "cell_type": "markdown",
   "metadata": {},
   "source": [
    "## Train"
   ]
  },
  {
   "cell_type": "code",
   "execution_count": 9,
   "metadata": {},
   "outputs": [],
   "source": [
    "os.environ[\"WANDB_API_KEY\"] = \"f59a698ea7b8d90b5e714412120fe93da03c5234\""
   ]
  },
  {
   "cell_type": "code",
   "execution_count": 10,
   "metadata": {},
   "outputs": [
    {
     "name": "stderr",
     "output_type": "stream",
     "text": [
      "Failed to query for notebook name, you can set it manually with the WANDB_NOTEBOOK_NAME environment variable\n",
      "\u001b[34m\u001b[1mwandb\u001b[0m: Currently logged in as: \u001b[33mapshirokov\u001b[0m (use `wandb login --relogin` to force relogin)\n",
      "\u001b[34m\u001b[1mwandb\u001b[0m: wandb version 0.10.18 is available!  To upgrade, please run:\n",
      "\u001b[34m\u001b[1mwandb\u001b[0m:  $ pip install wandb --upgrade\n"
     ]
    },
    {
     "data": {
      "text/html": [
       "\n",
       "                Tracking run with wandb version 0.10.17<br/>\n",
       "                Syncing run <strong style=\"color:#cdcd00\">wandering-field-117</strong> to <a href=\"https://wandb.ai\" target=\"_blank\">Weights & Biases</a> <a href=\"https://docs.wandb.com/integrations/jupyter.html\" target=\"_blank\">(Documentation)</a>.<br/>\n",
       "                Project page: <a href=\"https://wandb.ai/apshirokov/rich-gan-distilling\" target=\"_blank\">https://wandb.ai/apshirokov/rich-gan-distilling</a><br/>\n",
       "                Run page: <a href=\"https://wandb.ai/apshirokov/rich-gan-distilling/runs/dlq79znt\" target=\"_blank\">https://wandb.ai/apshirokov/rich-gan-distilling/runs/dlq79znt</a><br/>\n",
       "                Run data is saved locally in <code>/datadrive/mrartemev/Students/Artemiy/RICH/research/wandb/run-20210209_112334-dlq79znt</code><br/><br/>\n",
       "            "
      ],
      "text/plain": [
       "<IPython.core.display.HTML object>"
      ]
     },
     "metadata": {},
     "output_type": "display_data"
    },
    {
     "data": {
      "text/html": [
       "<h1>Run(dlq79znt)</h1><iframe src=\"https://wandb.ai/apshirokov/rich-gan-distilling/runs/dlq79znt\" style=\"border:none;width:100%;height:400px\"></iframe>"
      ],
      "text/plain": [
       "<wandb.sdk.wandb_run.Run at 0x7fc7fb808650>"
      ]
     },
     "execution_count": 10,
     "metadata": {},
     "output_type": "execute_result"
    }
   ],
   "source": [
    "# Weights & Biases\n",
    "wandb.init(project=\"rich-gan-distilling\")"
   ]
  },
  {
   "cell_type": "code",
   "execution_count": 11,
   "metadata": {},
   "outputs": [],
   "source": [
    "def plot(log=False):\n",
    "    dlls = None\n",
    "    student_generated = None\n",
    "    teacher_generated = None\n",
    "    weights = None\n",
    "    xx = None\n",
    "\n",
    "    with torch.no_grad():\n",
    "        for x, weight, real in val_loader:\n",
    "            weight = weight.detach().cpu().numpy()\n",
    "            dll = real.detach().cpu().numpy()[:,:utils_rich.y_count]\n",
    "            x = x.to(device)\n",
    "            teacher_gen = G(x).detach().cpu().numpy()\n",
    "            student_gen = G_student(x).detach().cpu().numpy()\n",
    "            x = x.detach().cpu().numpy()\n",
    "\n",
    "            if xx is None:\n",
    "                xx = x\n",
    "            else:\n",
    "                xx = np.concatenate((xx, x))\n",
    "\n",
    "            if dlls is None:\n",
    "                dlls = dll\n",
    "            else:\n",
    "                dlls = np.concatenate((dlls, dll))\n",
    "\n",
    "            if weights is None:\n",
    "                weights = weight\n",
    "            else:\n",
    "                weights = np.concatenate((weights, weight))\n",
    "\n",
    "            if teacher_generated is None:\n",
    "                teacher_generated = teacher_gen\n",
    "            else:\n",
    "                teacher_generated = np.concatenate((teacher_generated, teacher_gen))\n",
    "\n",
    "            if student_generated is None:\n",
    "                student_generated = student_gen\n",
    "            else:\n",
    "                student_generated = np.concatenate((student_generated, student_gen))\n",
    "\n",
    "        fig, axes = plt.subplots(3, 2, figsize=(15, 15))\n",
    "        for particle_type, ax in zip((0, 1, 2, 3, 4), axes.flatten()):\n",
    "            sns.distplot(dlls[:, particle_type], hist_kws={'weights': weights, 'alpha': 1}, kde=False, bins=100, ax=ax, label=\"real\", norm_hist=True)\n",
    "            sns.distplot(student_generated[:, particle_type], hist_kws={'weights': weights, 'alpha': 0.5}, kde=False, bins=100, ax=ax, label=\"student\", norm_hist=True)\n",
    "            sns.distplot(teacher_generated[:, particle_type], hist_kws={'weights': weights, 'alpha': 0.5}, kde=False, bins=100, ax=ax, label=\"teacher\", norm_hist=True)\n",
    "            ax.legend()\n",
    "            ax.set_title(utils_rich.dll_columns[particle_type])\n",
    "        \n",
    "        if log:\n",
    "            wandb.log({\"hist/normalized\": wandb.Image(plt)})\n",
    "            plt.clf()\n",
    "        else:\n",
    "            plt.show()"
   ]
  },
  {
   "cell_type": "code",
   "execution_count": 12,
   "metadata": {},
   "outputs": [],
   "source": [
    "# The coefficients needed for losses\n",
    "alpha = 10\n",
    "l_4coef = 0\n",
    "l_5coef = 0\n",
    "l_7coef = 0\n",
    "l_8coef = 0"
   ]
  },
  {
   "cell_type": "code",
   "execution_count": null,
   "metadata": {},
   "outputs": [
    {
     "name": "stderr",
     "output_type": "stream",
     "text": [
      "  0%|          | 0/2440 [00:00<?, ?it/s]/home/mrartemev/.local/lib/python3.7/site-packages/seaborn/distributions.py:2551: FutureWarning: `distplot` is a deprecated function and will be removed in a future version. Please adapt your code to use either `displot` (a figure-level function with similar flexibility) or `histplot` (an axes-level function for histograms).\n",
      "  warnings.warn(msg, FutureWarning)\n",
      "  0%|          | 4/2440 [03:55<39:55:16, 59.00s/it]"
     ]
    }
   ],
   "source": [
    "iteration = 0\n",
    "\n",
    "for _ in tqdm(range(TOTAL_ITERATIONS*10), position=0, leave=True):\n",
    "    for x, weight, dll in train_loader:\n",
    "        iteration += 1\n",
    "        \n",
    "        x = x.to(device)\n",
    "        weight = weight.to(device)\n",
    "        dll = dll.to(device)\n",
    "        real_row = torch.cat([dll, x], dim=1)\n",
    "        \n",
    "        if (iteration + 1) % 5:\n",
    "            # Train Discriminator...\n",
    "            C_student.zero_grad()\n",
    "            \n",
    "            # Clamp parameters to a range [-c, c], c=self.weight_cliping_limit\n",
    "            for p in C_student.parameters():\n",
    "                p.data.clamp_(-weight_cliping_limit, weight_cliping_limit)\n",
    "            \n",
    "            # with real dll\n",
    "            real_loss = C_student(real_row)\n",
    "            # with fake dll\n",
    "            fake_dll = G_student(x).detach()\n",
    "            fake_row = torch.cat([x, fake_dll], dim=1)\n",
    "            fake_loss = C_student(fake_row)\n",
    "            \n",
    "            # total discriminator loss\n",
    "            discriminator_loss = fake_loss.mean() - real_loss.mean()# + gradient_penalty*10\n",
    "            discriminator_loss.backward()\n",
    "            wandb.log({\"Critic loss\": discriminator_loss.item()})\n",
    "        \n",
    "            teacher_dll = G(x).detach()\n",
    "            teacher_row = torch.cat([x, teacher_dll], dim=1)\n",
    "            # Calculate L_Gt  (Fcn. 7 from paper) \n",
    "            output_gt = -l_7coef*C_student(teacher_row).mean()\n",
    "            output_gt.backward()\n",
    "            wandb.log({\"L_Gt\": output_gt.item()})\n",
    "            \n",
    "            # Calculate L_tri (Fcn. 8 from paper)\n",
    "            output_tri = torch.norm(C_student.get_after_n(real_row, 4) - C_student.get_after_n(teacher_row, 4), dim=0) - \\\n",
    "                         torch.norm(C_student.get_after_n(real_row, 4) - C_student.get_after_n(fake_row, 4), dim=0) + alpha\n",
    "            output_tri = l_8coef * torch.clamp(output_tri, min=0).mean()\n",
    "            output_tri.backward()\n",
    "    \n",
    "            optimizerC.step()\n",
    "        else:   \n",
    "            # Train Generator\n",
    "            optimizerG.zero_grad()\n",
    "            fake_dll = G_student(x)\n",
    "            fake_row = torch.cat([x, fake_dll], dim=1)\n",
    "            teacher_dll = G(x)\n",
    "            teacher_row = torch.cat([x, teacher_dll], dim=1)\n",
    "            generator_loss = -C_student(fake_row).mean()\n",
    "            generator_loss.backward()\n",
    "            \n",
    "            # Calculate L1_loss (Fcn. 4 from paper)\n",
    "            l1 = l_4coef*torch.abs(G(x) - G_student(x)).mean()\n",
    "            l1.backward()\n",
    "            \n",
    "            # Calculate L_perc  (Fcn. 5 from paper)\n",
    "            fake_dll = G_student(x)\n",
    "            fake_row = torch.cat([x, fake_dll], dim=1)\n",
    "            teacher_dll = G(x)\n",
    "            teacher_row = torch.cat([x, teacher_dll], dim=1)\n",
    "            l_perc = (l_5coef * (torch.norm(C.get_after_n(teacher_row, 10) - C.get_after_n(fake_row, 10), dim=0).pow(2))).mean()\n",
    "            l_perc.backward()\n",
    "    \n",
    "            wandb.log({\"L1_loss\": l1.mean().item()})\n",
    "            wandb.log({\"L_perc\": l_perc.mean().item()})\n",
    "\n",
    "            optimizerG.step()\n",
    "            \n",
    "    # Save weights\n",
    "    if iteration % 100 == 0:\n",
    "        torch.save(C_student.state_dict(), 'C_distillation_10_u.pth')\n",
    "        torch.save(G_student.state_dict(), 'G_distillation_10_u.pth')\n",
    "        plot(log=True)"
   ]
  },
  {
   "cell_type": "markdown",
   "metadata": {},
   "source": [
    "## Test"
   ]
  },
  {
   "cell_type": "code",
   "execution_count": null,
   "metadata": {},
   "outputs": [
    {
     "ename": "Exception",
     "evalue": "The wandb backend process has shutdown",
     "output_type": "error",
     "traceback": [
      "\u001b[0;31m---------------------------------------------------------------------------\u001b[0m",
      "\u001b[0;31mException\u001b[0m                                 Traceback (most recent call last)",
      "\u001b[0;32m/datadrive/anaconda3/envs/jupyterhub/lib/python3.7/site-packages/IPython/core/events.py\u001b[0m in \u001b[0;36mtrigger\u001b[0;34m(self, event, *args, **kwargs)\u001b[0m\n\u001b[1;32m     87\u001b[0m             \u001b[0;32mtry\u001b[0m\u001b[0;34m:\u001b[0m\u001b[0;34m\u001b[0m\u001b[0;34m\u001b[0m\u001b[0m\n\u001b[0;32m---> 88\u001b[0;31m                 \u001b[0mfunc\u001b[0m\u001b[0;34m(\u001b[0m\u001b[0;34m*\u001b[0m\u001b[0margs\u001b[0m\u001b[0;34m,\u001b[0m \u001b[0;34m**\u001b[0m\u001b[0mkwargs\u001b[0m\u001b[0;34m)\u001b[0m\u001b[0;34m\u001b[0m\u001b[0;34m\u001b[0m\u001b[0m\n\u001b[0m\u001b[1;32m     89\u001b[0m             \u001b[0;32mexcept\u001b[0m \u001b[0;34m(\u001b[0m\u001b[0mException\u001b[0m\u001b[0;34m,\u001b[0m \u001b[0mKeyboardInterrupt\u001b[0m\u001b[0;34m)\u001b[0m\u001b[0;34m:\u001b[0m\u001b[0;34m\u001b[0m\u001b[0;34m\u001b[0m\u001b[0m\n",
      "\u001b[0;32m/datadrive/anaconda3/envs/jupyterhub/lib/python3.7/site-packages/backcall/backcall.py\u001b[0m in \u001b[0;36madapted\u001b[0;34m(*args, **kwargs)\u001b[0m\n\u001b[1;32m    103\u001b[0m \u001b[0;31m#            print(args, kwargs, unmatched_pos, cut_positional, unmatched_kw)\u001b[0m\u001b[0;34m\u001b[0m\u001b[0;34m\u001b[0m\u001b[0;34m\u001b[0m\u001b[0m\n\u001b[0;32m--> 104\u001b[0;31m             \u001b[0;32mreturn\u001b[0m \u001b[0mcallback\u001b[0m\u001b[0;34m(\u001b[0m\u001b[0;34m*\u001b[0m\u001b[0margs\u001b[0m\u001b[0;34m,\u001b[0m \u001b[0;34m**\u001b[0m\u001b[0mkwargs\u001b[0m\u001b[0;34m)\u001b[0m\u001b[0;34m\u001b[0m\u001b[0;34m\u001b[0m\u001b[0m\n\u001b[0m\u001b[1;32m    105\u001b[0m \u001b[0;34m\u001b[0m\u001b[0m\n",
      "\u001b[0;32m~/.local/lib/python3.7/site-packages/wandb/sdk/wandb_init.py\u001b[0m in \u001b[0;36m_resume_backend\u001b[0;34m(self)\u001b[0m\n\u001b[1;32m    244\u001b[0m             \u001b[0mlogger\u001b[0m\u001b[0;34m.\u001b[0m\u001b[0minfo\u001b[0m\u001b[0;34m(\u001b[0m\u001b[0;34m\"resuming backend\"\u001b[0m\u001b[0;34m)\u001b[0m\u001b[0;34m\u001b[0m\u001b[0;34m\u001b[0m\u001b[0m\n\u001b[0;32m--> 245\u001b[0;31m             \u001b[0mself\u001b[0m\u001b[0;34m.\u001b[0m\u001b[0mbackend\u001b[0m\u001b[0;34m.\u001b[0m\u001b[0minterface\u001b[0m\u001b[0;34m.\u001b[0m\u001b[0mpublish_resume\u001b[0m\u001b[0;34m(\u001b[0m\u001b[0;34m)\u001b[0m\u001b[0;34m\u001b[0m\u001b[0;34m\u001b[0m\u001b[0m\n\u001b[0m\u001b[1;32m    246\u001b[0m \u001b[0;34m\u001b[0m\u001b[0m\n",
      "\u001b[0;32m~/.local/lib/python3.7/site-packages/wandb/sdk/interface/interface.py\u001b[0m in \u001b[0;36mpublish_resume\u001b[0;34m(self)\u001b[0m\n\u001b[1;32m    515\u001b[0m         \u001b[0mrec\u001b[0m \u001b[0;34m=\u001b[0m \u001b[0mself\u001b[0m\u001b[0;34m.\u001b[0m\u001b[0m_make_request\u001b[0m\u001b[0;34m(\u001b[0m\u001b[0mresume\u001b[0m\u001b[0;34m=\u001b[0m\u001b[0mresume\u001b[0m\u001b[0;34m)\u001b[0m\u001b[0;34m\u001b[0m\u001b[0;34m\u001b[0m\u001b[0m\n\u001b[0;32m--> 516\u001b[0;31m         \u001b[0mself\u001b[0m\u001b[0;34m.\u001b[0m\u001b[0m_publish\u001b[0m\u001b[0;34m(\u001b[0m\u001b[0mrec\u001b[0m\u001b[0;34m)\u001b[0m\u001b[0;34m\u001b[0m\u001b[0;34m\u001b[0m\u001b[0m\n\u001b[0m\u001b[1;32m    517\u001b[0m \u001b[0;34m\u001b[0m\u001b[0m\n",
      "\u001b[0;32m~/.local/lib/python3.7/site-packages/wandb/sdk/interface/interface.py\u001b[0m in \u001b[0;36m_publish\u001b[0;34m(self, record, local)\u001b[0m\n\u001b[1;32m    458\u001b[0m         \u001b[0;32mif\u001b[0m \u001b[0mself\u001b[0m\u001b[0;34m.\u001b[0m\u001b[0m_process\u001b[0m \u001b[0;32mand\u001b[0m \u001b[0;32mnot\u001b[0m \u001b[0mself\u001b[0m\u001b[0;34m.\u001b[0m\u001b[0m_process\u001b[0m\u001b[0;34m.\u001b[0m\u001b[0mis_alive\u001b[0m\u001b[0;34m(\u001b[0m\u001b[0;34m)\u001b[0m\u001b[0;34m:\u001b[0m\u001b[0;34m\u001b[0m\u001b[0;34m\u001b[0m\u001b[0m\n\u001b[0;32m--> 459\u001b[0;31m             \u001b[0;32mraise\u001b[0m \u001b[0mException\u001b[0m\u001b[0;34m(\u001b[0m\u001b[0;34m\"The wandb backend process has shutdown\"\u001b[0m\u001b[0;34m)\u001b[0m\u001b[0;34m\u001b[0m\u001b[0;34m\u001b[0m\u001b[0m\n\u001b[0m\u001b[1;32m    460\u001b[0m         \u001b[0;32mif\u001b[0m \u001b[0mlocal\u001b[0m\u001b[0;34m:\u001b[0m\u001b[0;34m\u001b[0m\u001b[0;34m\u001b[0m\u001b[0m\n",
      "\u001b[0;31mException\u001b[0m: The wandb backend process has shutdown",
      "\nDuring handling of the above exception, another exception occurred:\n",
      "\u001b[0;31mException\u001b[0m                                 Traceback (most recent call last)",
      "\u001b[0;32m/datadrive/anaconda3/envs/jupyterhub/lib/python3.7/site-packages/IPython/core/async_helpers.py\u001b[0m in \u001b[0;36m_pseudo_sync_runner\u001b[0;34m(coro)\u001b[0m\n\u001b[1;32m     66\u001b[0m     \"\"\"\n\u001b[1;32m     67\u001b[0m     \u001b[0;32mtry\u001b[0m\u001b[0;34m:\u001b[0m\u001b[0;34m\u001b[0m\u001b[0;34m\u001b[0m\u001b[0m\n\u001b[0;32m---> 68\u001b[0;31m         \u001b[0mcoro\u001b[0m\u001b[0;34m.\u001b[0m\u001b[0msend\u001b[0m\u001b[0;34m(\u001b[0m\u001b[0;32mNone\u001b[0m\u001b[0;34m)\u001b[0m\u001b[0;34m\u001b[0m\u001b[0;34m\u001b[0m\u001b[0m\n\u001b[0m\u001b[1;32m     69\u001b[0m     \u001b[0;32mexcept\u001b[0m \u001b[0mStopIteration\u001b[0m \u001b[0;32mas\u001b[0m \u001b[0mexc\u001b[0m\u001b[0;34m:\u001b[0m\u001b[0;34m\u001b[0m\u001b[0;34m\u001b[0m\u001b[0m\n\u001b[1;32m     70\u001b[0m         \u001b[0;32mreturn\u001b[0m \u001b[0mexc\u001b[0m\u001b[0;34m.\u001b[0m\u001b[0mvalue\u001b[0m\u001b[0;34m\u001b[0m\u001b[0;34m\u001b[0m\u001b[0m\n",
      "\u001b[0;32m/datadrive/anaconda3/envs/jupyterhub/lib/python3.7/site-packages/IPython/core/interactiveshell.py\u001b[0m in \u001b[0;36mrun_cell_async\u001b[0;34m(self, raw_cell, store_history, silent, shell_futures, transformed_cell, preprocessing_exc_tuple)\u001b[0m\n\u001b[1;32m   3036\u001b[0m         \u001b[0mself\u001b[0m\u001b[0;34m.\u001b[0m\u001b[0mevents\u001b[0m\u001b[0;34m.\u001b[0m\u001b[0mtrigger\u001b[0m\u001b[0;34m(\u001b[0m\u001b[0;34m'pre_execute'\u001b[0m\u001b[0;34m)\u001b[0m\u001b[0;34m\u001b[0m\u001b[0;34m\u001b[0m\u001b[0m\n\u001b[1;32m   3037\u001b[0m         \u001b[0;32mif\u001b[0m \u001b[0;32mnot\u001b[0m \u001b[0msilent\u001b[0m\u001b[0;34m:\u001b[0m\u001b[0;34m\u001b[0m\u001b[0;34m\u001b[0m\u001b[0m\n\u001b[0;32m-> 3038\u001b[0;31m             \u001b[0mself\u001b[0m\u001b[0;34m.\u001b[0m\u001b[0mevents\u001b[0m\u001b[0;34m.\u001b[0m\u001b[0mtrigger\u001b[0m\u001b[0;34m(\u001b[0m\u001b[0;34m'pre_run_cell'\u001b[0m\u001b[0;34m,\u001b[0m \u001b[0minfo\u001b[0m\u001b[0;34m)\u001b[0m\u001b[0;34m\u001b[0m\u001b[0;34m\u001b[0m\u001b[0m\n\u001b[0m\u001b[1;32m   3039\u001b[0m \u001b[0;34m\u001b[0m\u001b[0m\n\u001b[1;32m   3040\u001b[0m         \u001b[0;32mif\u001b[0m \u001b[0mtransformed_cell\u001b[0m \u001b[0;32mis\u001b[0m \u001b[0;32mNone\u001b[0m\u001b[0;34m:\u001b[0m\u001b[0;34m\u001b[0m\u001b[0;34m\u001b[0m\u001b[0m\n",
      "\u001b[0;32m/datadrive/anaconda3/envs/jupyterhub/lib/python3.7/site-packages/IPython/core/events.py\u001b[0m in \u001b[0;36mtrigger\u001b[0;34m(self, event, *args, **kwargs)\u001b[0m\n\u001b[1;32m     88\u001b[0m                 \u001b[0mfunc\u001b[0m\u001b[0;34m(\u001b[0m\u001b[0;34m*\u001b[0m\u001b[0margs\u001b[0m\u001b[0;34m,\u001b[0m \u001b[0;34m**\u001b[0m\u001b[0mkwargs\u001b[0m\u001b[0;34m)\u001b[0m\u001b[0;34m\u001b[0m\u001b[0;34m\u001b[0m\u001b[0m\n\u001b[1;32m     89\u001b[0m             \u001b[0;32mexcept\u001b[0m \u001b[0;34m(\u001b[0m\u001b[0mException\u001b[0m\u001b[0;34m,\u001b[0m \u001b[0mKeyboardInterrupt\u001b[0m\u001b[0;34m)\u001b[0m\u001b[0;34m:\u001b[0m\u001b[0;34m\u001b[0m\u001b[0;34m\u001b[0m\u001b[0m\n\u001b[0;32m---> 90\u001b[0;31m                 \u001b[0mprint\u001b[0m\u001b[0;34m(\u001b[0m\u001b[0;34m\"Error in callback {} (for {}):\"\u001b[0m\u001b[0;34m.\u001b[0m\u001b[0mformat\u001b[0m\u001b[0;34m(\u001b[0m\u001b[0mfunc\u001b[0m\u001b[0;34m,\u001b[0m \u001b[0mevent\u001b[0m\u001b[0;34m)\u001b[0m\u001b[0;34m)\u001b[0m\u001b[0;34m\u001b[0m\u001b[0;34m\u001b[0m\u001b[0m\n\u001b[0m\u001b[1;32m     91\u001b[0m                 \u001b[0mself\u001b[0m\u001b[0;34m.\u001b[0m\u001b[0mshell\u001b[0m\u001b[0;34m.\u001b[0m\u001b[0mshowtraceback\u001b[0m\u001b[0;34m(\u001b[0m\u001b[0;34m)\u001b[0m\u001b[0;34m\u001b[0m\u001b[0;34m\u001b[0m\u001b[0m\n\u001b[1;32m     92\u001b[0m \u001b[0;34m\u001b[0m\u001b[0m\n",
      "\u001b[0;32m~/.local/lib/python3.7/site-packages/wandb/sdk/lib/redirect.py\u001b[0m in \u001b[0;36mnew_write\u001b[0;34m(data)\u001b[0m\n\u001b[1;32m     98\u001b[0m \u001b[0;34m\u001b[0m\u001b[0m\n\u001b[1;32m     99\u001b[0m             \u001b[0;32mdef\u001b[0m \u001b[0mnew_write\u001b[0m\u001b[0;34m(\u001b[0m\u001b[0mdata\u001b[0m\u001b[0;34m)\u001b[0m\u001b[0;34m:\u001b[0m\u001b[0;34m\u001b[0m\u001b[0;34m\u001b[0m\u001b[0m\n\u001b[0;32m--> 100\u001b[0;31m                 \u001b[0mcb\u001b[0m\u001b[0;34m(\u001b[0m\u001b[0mname\u001b[0m\u001b[0;34m,\u001b[0m \u001b[0mdata\u001b[0m\u001b[0;34m)\u001b[0m\u001b[0;34m\u001b[0m\u001b[0;34m\u001b[0m\u001b[0m\n\u001b[0m\u001b[1;32m    101\u001b[0m                 \u001b[0mold_write\u001b[0m\u001b[0;34m(\u001b[0m\u001b[0mdata\u001b[0m\u001b[0;34m)\u001b[0m\u001b[0;34m\u001b[0m\u001b[0;34m\u001b[0m\u001b[0m\n\u001b[1;32m    102\u001b[0m                 \u001b[0;32mtry\u001b[0m\u001b[0;34m:\u001b[0m\u001b[0;34m\u001b[0m\u001b[0;34m\u001b[0m\u001b[0m\n",
      "\u001b[0;32m~/.local/lib/python3.7/site-packages/wandb/sdk/wandb_run.py\u001b[0m in \u001b[0;36m_console_callback\u001b[0;34m(self, name, data)\u001b[0m\n\u001b[1;32m    724\u001b[0m         \u001b[0;31m# logger.info(\"console callback: %s, %s\", name, data)\u001b[0m\u001b[0;34m\u001b[0m\u001b[0;34m\u001b[0m\u001b[0;34m\u001b[0m\u001b[0m\n\u001b[1;32m    725\u001b[0m         \u001b[0;32mif\u001b[0m \u001b[0mself\u001b[0m\u001b[0;34m.\u001b[0m\u001b[0m_backend\u001b[0m\u001b[0;34m:\u001b[0m\u001b[0;34m\u001b[0m\u001b[0;34m\u001b[0m\u001b[0m\n\u001b[0;32m--> 726\u001b[0;31m             \u001b[0mself\u001b[0m\u001b[0;34m.\u001b[0m\u001b[0m_backend\u001b[0m\u001b[0;34m.\u001b[0m\u001b[0minterface\u001b[0m\u001b[0;34m.\u001b[0m\u001b[0mpublish_output\u001b[0m\u001b[0;34m(\u001b[0m\u001b[0mname\u001b[0m\u001b[0;34m,\u001b[0m \u001b[0mdata\u001b[0m\u001b[0;34m)\u001b[0m\u001b[0;34m\u001b[0m\u001b[0;34m\u001b[0m\u001b[0m\n\u001b[0m\u001b[1;32m    727\u001b[0m \u001b[0;34m\u001b[0m\u001b[0m\n\u001b[1;32m    728\u001b[0m     def _tensorboard_callback(\n",
      "\u001b[0;32m~/.local/lib/python3.7/site-packages/wandb/sdk/interface/interface.py\u001b[0m in \u001b[0;36mpublish_output\u001b[0;34m(self, name, data)\u001b[0m\n\u001b[1;32m    151\u001b[0m         \u001b[0mo\u001b[0m \u001b[0;34m=\u001b[0m \u001b[0mwandb_internal_pb2\u001b[0m\u001b[0;34m.\u001b[0m\u001b[0mOutputRecord\u001b[0m\u001b[0;34m(\u001b[0m\u001b[0moutput_type\u001b[0m\u001b[0;34m=\u001b[0m\u001b[0motype\u001b[0m\u001b[0;34m,\u001b[0m \u001b[0mline\u001b[0m\u001b[0;34m=\u001b[0m\u001b[0mdata\u001b[0m\u001b[0;34m)\u001b[0m\u001b[0;34m\u001b[0m\u001b[0;34m\u001b[0m\u001b[0m\n\u001b[1;32m    152\u001b[0m         \u001b[0mo\u001b[0m\u001b[0;34m.\u001b[0m\u001b[0mtimestamp\u001b[0m\u001b[0;34m.\u001b[0m\u001b[0mGetCurrentTime\u001b[0m\u001b[0;34m(\u001b[0m\u001b[0;34m)\u001b[0m\u001b[0;34m\u001b[0m\u001b[0;34m\u001b[0m\u001b[0m\n\u001b[0;32m--> 153\u001b[0;31m         \u001b[0mself\u001b[0m\u001b[0;34m.\u001b[0m\u001b[0m_publish_output\u001b[0m\u001b[0;34m(\u001b[0m\u001b[0mo\u001b[0m\u001b[0;34m)\u001b[0m\u001b[0;34m\u001b[0m\u001b[0;34m\u001b[0m\u001b[0m\n\u001b[0m\u001b[1;32m    154\u001b[0m \u001b[0;34m\u001b[0m\u001b[0m\n\u001b[1;32m    155\u001b[0m     \u001b[0;32mdef\u001b[0m \u001b[0m_publish_output\u001b[0m\u001b[0;34m(\u001b[0m\u001b[0mself\u001b[0m\u001b[0;34m,\u001b[0m \u001b[0moutdata\u001b[0m\u001b[0;34m)\u001b[0m\u001b[0;34m:\u001b[0m\u001b[0;34m\u001b[0m\u001b[0;34m\u001b[0m\u001b[0m\n",
      "\u001b[0;32m~/.local/lib/python3.7/site-packages/wandb/sdk/interface/interface.py\u001b[0m in \u001b[0;36m_publish_output\u001b[0;34m(self, outdata)\u001b[0m\n\u001b[1;32m    156\u001b[0m         \u001b[0mrec\u001b[0m \u001b[0;34m=\u001b[0m \u001b[0mwandb_internal_pb2\u001b[0m\u001b[0;34m.\u001b[0m\u001b[0mRecord\u001b[0m\u001b[0;34m(\u001b[0m\u001b[0;34m)\u001b[0m\u001b[0;34m\u001b[0m\u001b[0;34m\u001b[0m\u001b[0m\n\u001b[1;32m    157\u001b[0m         \u001b[0mrec\u001b[0m\u001b[0;34m.\u001b[0m\u001b[0moutput\u001b[0m\u001b[0;34m.\u001b[0m\u001b[0mCopyFrom\u001b[0m\u001b[0;34m(\u001b[0m\u001b[0moutdata\u001b[0m\u001b[0;34m)\u001b[0m\u001b[0;34m\u001b[0m\u001b[0;34m\u001b[0m\u001b[0m\n\u001b[0;32m--> 158\u001b[0;31m         \u001b[0mself\u001b[0m\u001b[0;34m.\u001b[0m\u001b[0m_publish\u001b[0m\u001b[0;34m(\u001b[0m\u001b[0mrec\u001b[0m\u001b[0;34m)\u001b[0m\u001b[0;34m\u001b[0m\u001b[0;34m\u001b[0m\u001b[0m\n\u001b[0m\u001b[1;32m    159\u001b[0m \u001b[0;34m\u001b[0m\u001b[0m\n\u001b[1;32m    160\u001b[0m     \u001b[0;32mdef\u001b[0m \u001b[0mpublish_tbdata\u001b[0m\u001b[0;34m(\u001b[0m\u001b[0mself\u001b[0m\u001b[0;34m,\u001b[0m \u001b[0mlog_dir\u001b[0m\u001b[0;34m,\u001b[0m \u001b[0msave\u001b[0m\u001b[0;34m,\u001b[0m \u001b[0mroot_logdir\u001b[0m\u001b[0;34m)\u001b[0m\u001b[0;34m:\u001b[0m\u001b[0;34m\u001b[0m\u001b[0;34m\u001b[0m\u001b[0m\n",
      "\u001b[0;32m~/.local/lib/python3.7/site-packages/wandb/sdk/interface/interface.py\u001b[0m in \u001b[0;36m_publish\u001b[0;34m(self, record, local)\u001b[0m\n\u001b[1;32m    457\u001b[0m     \u001b[0;32mdef\u001b[0m \u001b[0m_publish\u001b[0m\u001b[0;34m(\u001b[0m\u001b[0mself\u001b[0m\u001b[0;34m,\u001b[0m \u001b[0mrecord\u001b[0m\u001b[0;34m,\u001b[0m \u001b[0mlocal\u001b[0m\u001b[0;34m=\u001b[0m\u001b[0;32mNone\u001b[0m\u001b[0;34m)\u001b[0m\u001b[0;34m:\u001b[0m\u001b[0;34m\u001b[0m\u001b[0;34m\u001b[0m\u001b[0m\n\u001b[1;32m    458\u001b[0m         \u001b[0;32mif\u001b[0m \u001b[0mself\u001b[0m\u001b[0;34m.\u001b[0m\u001b[0m_process\u001b[0m \u001b[0;32mand\u001b[0m \u001b[0;32mnot\u001b[0m \u001b[0mself\u001b[0m\u001b[0;34m.\u001b[0m\u001b[0m_process\u001b[0m\u001b[0;34m.\u001b[0m\u001b[0mis_alive\u001b[0m\u001b[0;34m(\u001b[0m\u001b[0;34m)\u001b[0m\u001b[0;34m:\u001b[0m\u001b[0;34m\u001b[0m\u001b[0;34m\u001b[0m\u001b[0m\n\u001b[0;32m--> 459\u001b[0;31m             \u001b[0;32mraise\u001b[0m \u001b[0mException\u001b[0m\u001b[0;34m(\u001b[0m\u001b[0;34m\"The wandb backend process has shutdown\"\u001b[0m\u001b[0;34m)\u001b[0m\u001b[0;34m\u001b[0m\u001b[0;34m\u001b[0m\u001b[0m\n\u001b[0m\u001b[1;32m    460\u001b[0m         \u001b[0;32mif\u001b[0m \u001b[0mlocal\u001b[0m\u001b[0;34m:\u001b[0m\u001b[0;34m\u001b[0m\u001b[0;34m\u001b[0m\u001b[0m\n\u001b[1;32m    461\u001b[0m             \u001b[0mrecord\u001b[0m\u001b[0;34m.\u001b[0m\u001b[0mcontrol\u001b[0m\u001b[0;34m.\u001b[0m\u001b[0mlocal\u001b[0m \u001b[0;34m=\u001b[0m \u001b[0mlocal\u001b[0m\u001b[0;34m\u001b[0m\u001b[0;34m\u001b[0m\u001b[0m\n",
      "\u001b[0;31mException\u001b[0m: The wandb backend process has shutdown"
     ]
    }
   ],
   "source": [
    "dlls = None\n",
    "student_generated = None\n",
    "teacher_generated = None\n",
    "weights = None\n",
    "xx = None\n",
    "\n",
    "with torch.no_grad():\n",
    "    for x, weight, real in val_loader:\n",
    "        weight = weight.detach().cpu().numpy()\n",
    "        dll = real.detach().cpu().numpy()[:,:utils_rich.y_count]\n",
    "        x = x.to(device)\n",
    "        teacher_gen = G(x).detach().cpu().numpy()\n",
    "        student_gen = G_student(x).detach().cpu().numpy()\n",
    "        x = x.detach().cpu().numpy()\n",
    "        \n",
    "        if xx is None:\n",
    "            xx = x\n",
    "        else:\n",
    "            xx = np.concatenate((xx, x))\n",
    "\n",
    "        if dlls is None:\n",
    "            dlls = dll\n",
    "        else:\n",
    "            dlls = np.concatenate((dlls, dll))\n",
    "\n",
    "        if weights is None:\n",
    "            weights = weight\n",
    "        else:\n",
    "            weights = np.concatenate((weights, weight))\n",
    "\n",
    "        if teacher_generated is None:\n",
    "            teacher_generated = teacher_gen\n",
    "        else:\n",
    "            teacher_generated = np.concatenate((teacher_generated, teacher_gen))\n",
    "            \n",
    "        if student_generated is None:\n",
    "            student_generated = student_gen\n",
    "        else:\n",
    "            student_generated = np.concatenate((student_generated, student_gen))\n",
    "\n",
    "    fig, axes = plt.subplots(3, 2, figsize=(15, 15))\n",
    "    for particle_type, ax in zip((0, 1, 2, 3, 4), axes.flatten()):\n",
    "        sns.distplot(dlls[:, particle_type], hist_kws={'weights': weights, 'alpha': 1}, kde=False, bins=100, ax=ax, label=\"real\", norm_hist=True)\n",
    "        sns.distplot(student_generated[:, particle_type], hist_kws={'weights': weights, 'alpha': 0.5}, kde=False, bins=100, ax=ax, label=\"student\", norm_hist=True)\n",
    "        sns.distplot(teacher_generated[:, particle_type], hist_kws={'weights': weights, 'alpha': 0.5}, kde=False, bins=100, ax=ax, label=\"teacher\", norm_hist=True)\n",
    "        ax.legend()\n",
    "        ax.set_title(utils_rich.dll_columns[particle_type])\n",
    "\n",
    "    plt.show()"
   ]
  },
  {
   "cell_type": "code",
   "execution_count": 22,
   "metadata": {},
   "outputs": [
    {
     "data": {
      "image/png": "[encoded data removed]",
      "text/plain": [
       "<Figure size 1080x1080 with 6 Axes>"
      ]
     },
     "metadata": {
      "needs_background": "light"
     },
     "output_type": "display_data"
    }
   ],
   "source": [
    "dlls_inversed = inversescale(dlls)\n",
    "teacher_generated_inversed = inversescale(teacher_generated)\n",
    "student_generated_inversed = inversescale(student_generated)\n",
    "\n",
    "\n",
    "fig, axes = plt.subplots(3, 2, figsize=(15, 15))\n",
    "for particle_type, ax in zip((0, 1, 2, 3, 4), axes.flatten()):\n",
    "    sns.distplot(dlls_inversed[:, particle_type], hist_kws={'alpha': 1}, kde=False, bins=100, ax=ax, label=\"real\", norm_hist=True)\n",
    "    sns.distplot(teacher_generated_inversed[:, particle_type], hist_kws={'alpha': 0.5}, kde=False, bins=100, ax=ax, label=\"teacher\", norm_hist=True)\n",
    "    sns.distplot(student_generated_inversed[:, particle_type], hist_kws={'alpha': 0.5}, kde=False, bins=100, ax=ax, label=\"student\", norm_hist=True)\n",
    "    ax.legend()\n",
    "    ax.set_title(particle_type)\n",
    "\n",
    "plt.show()"
   ]
  },
  {
   "cell_type": "code",
   "execution_count": 24,
   "metadata": {},
   "outputs": [
    {
     "name": "stderr",
     "output_type": "stream",
     "text": [
      "Warning: less than 75% gpu memory available for training. Free: 6768.5 Total: 11441.1875\n"
     ]
    },
    {
     "data": {
      "text/plain": [
       "0.717739156886109"
      ]
     },
     "execution_count": 24,
     "metadata": {},
     "output_type": "execute_result"
    }
   ],
   "source": [
    "from sklearn.model_selection import train_test_split\n",
    "from catboost import CatBoostClassifier\n",
    "\n",
    "y = [1] * dlls_inversed.shape[0]\n",
    "y.extend(list([0] * student_generated_inversed.shape[0]))\n",
    "X = np.concatenate((dlls_inversed, student_generated_inversed))\n",
    "\n",
    "X_train, X_test, y_train, y_test = train_test_split(X, y, test_size=0.33, random_state=42, shuffle=True)\n",
    "\n",
    "classifier = CatBoostClassifier(iterations=1000,\n",
    "                custom_metric=['Logloss', 'AUC'],\n",
    "                task_type=\"GPU\",\n",
    "                devices='0:1')\n",
    "\n",
    "classifier.fit(X_train,\n",
    "                y_train,\n",
    "                verbose=False,\n",
    "                plot=False);\n",
    "\n",
    "predicted = classifier.predict(X_test)\n",
    "\n",
    "from sklearn import metrics\n",
    "\n",
    "fpr, tpr, thresholds = metrics.roc_curve(y_test, predicted, pos_label=1)\n",
    "metrics.auc(fpr, tpr)"
   ]
  }
 ],
 "metadata": {
  "kernelspec": {
   "display_name": "Python 3",
   "language": "python",
   "name": "python3"
  },
  "language_info": {
   "codemirror_mode": {
    "name": "ipython",
    "version": 3
   },
   "file_extension": ".py",
   "mimetype": "text/x-python",
   "name": "python",
   "nbconvert_exporter": "python",
   "pygments_lexer": "ipython3",
   "version": "3.7.9"
  }
 },
 "nbformat": 4,
 "nbformat_minor": 4
}
