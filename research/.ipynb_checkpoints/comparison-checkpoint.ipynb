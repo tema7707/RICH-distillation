{
 "cells": [
  {
   "cell_type": "markdown",
   "metadata": {},
   "source": [
    "### Requirements & Configurations"
   ]
  },
  {
   "cell_type": "code",
   "execution_count": 1,
   "metadata": {},
   "outputs": [],
   "source": [
    "import sys  \n",
    "sys.path.insert(0, '../')"
   ]
  },
  {
   "cell_type": "code",
   "execution_count": 2,
   "metadata": {},
   "outputs": [],
   "source": [
    "from torch import nn\n",
    "from sklearn.model_selection import train_test_split\n",
    "from sklearn.preprocessing import StandardScaler, MinMaxScaler\n",
    "from catboost import CatBoostClassifier, Pool\n",
    "\n",
    "from torch import nn\n",
    "from IPython.display import clear_output\n",
    "from tqdm import tqdm_notebook, tqdm\n",
    "from torch.autograd import Variable, grad\n",
    "from torch.utils.data import DataLoader\n",
    "from itertools import repeat\n",
    "from data import *\n",
    "\n",
    "import torch\n",
    "import torch.nn.utils.prune as prune\n",
    "import torch.nn.functional as F\n",
    "\n",
    "import core.data.rich_utils as rich_utils\n",
    "\n",
    "import wandb\n",
    "import pandas as pd\n",
    "import seaborn as sns\n",
    "import numpy as np\n",
    "import matplotlib.pyplot as plt\n",
    "import scipy\n",
    "import os\n",
    "\n",
    "%matplotlib inline"
   ]
  },
  {
   "cell_type": "code",
   "execution_count": 3,
   "metadata": {},
   "outputs": [],
   "source": [
    "PARTICLE_TYPE = 'pion'\n",
    "\n",
    "BATCH_SIZE = 4096\n",
    "BATCH_SIZE_VAL = 1024\n",
    "LATENT_DIMENSIONS = 128\n",
    "NOISE_SIZE = 128\n",
    "CRAMER_DIM = 512\n",
    "NUM_LAYERS = 10\n",
    "\n",
    "CRITIC_ITERATIONS_CONST = 10\n",
    "TOTAL_ITERATIONS = int(6e4)\n",
    "VALIDATION_INTERVAL = 10000\n",
    "\n",
    "device = 'cuda:0' if torch.cuda.is_available() else 'cpu'"
   ]
  },
  {
   "cell_type": "markdown",
   "metadata": {},
   "source": [
    "### Load dataset"
   ]
  },
  {
   "cell_type": "code",
   "execution_count": 4,
   "metadata": {},
   "outputs": [
    {
     "name": "stdout",
     "output_type": "stream",
     "text": [
      "scaler train sample size: 1500000\n",
      "scaler n_quantiles: 100000, time = 1.9130511283874512\n"
     ]
    }
   ],
   "source": [
    "from core.data.datasets import ParticleDataset\n",
    "               \n",
    "\n",
    "data_train, data_val, scaler = rich_utils.get_merged_typed_dataset(PARTICLE_TYPE, dtype=np.float32)\n",
    "    \n",
    "train_loader = torch.utils.data.DataLoader(ParticleDataset(data_train.values),\n",
    "                                                    batch_size=BATCH_SIZE,\n",
    "                                                    shuffle=True,\n",
    "                                                    pin_memory=True)\n",
    "\n",
    "val_loader = torch.utils.data.DataLoader(ParticleDataset(data_val.values),\n",
    "                                                  batch_size=BATCH_SIZE_VAL,\n",
    "                                                  shuffle=False,\n",
    "                                                  pin_memory=True)"
   ]
  },
  {
   "cell_type": "code",
   "execution_count": 5,
   "metadata": {},
   "outputs": [
    {
     "data": {
      "text/html": [
       "<div>\n",
       "<style scoped>\n",
       "    .dataframe tbody tr th:only-of-type {\n",
       "        vertical-align: middle;\n",
       "    }\n",
       "\n",
       "    .dataframe tbody tr th {\n",
       "        vertical-align: top;\n",
       "    }\n",
       "\n",
       "    .dataframe thead th {\n",
       "        text-align: right;\n",
       "    }\n",
       "</style>\n",
       "<table border=\"1\" class=\"dataframe\">\n",
       "  <thead>\n",
       "    <tr style=\"text-align: right;\">\n",
       "      <th></th>\n",
       "      <th>RichDLLe</th>\n",
       "      <th>RichDLLk</th>\n",
       "      <th>RichDLLmu</th>\n",
       "      <th>RichDLLp</th>\n",
       "      <th>RichDLLbt</th>\n",
       "      <th>Brunel_P</th>\n",
       "      <th>Brunel_ETA</th>\n",
       "      <th>nTracks_Brunel</th>\n",
       "      <th>probe_sWeight</th>\n",
       "    </tr>\n",
       "  </thead>\n",
       "  <tbody>\n",
       "    <tr>\n",
       "      <th>0</th>\n",
       "      <td>0.482666</td>\n",
       "      <td>0.053458</td>\n",
       "      <td>0.053947</td>\n",
       "      <td>-0.548041</td>\n",
       "      <td>0.269786</td>\n",
       "      <td>0.720969</td>\n",
       "      <td>0.676907</td>\n",
       "      <td>0.097714</td>\n",
       "      <td>0.883707</td>\n",
       "    </tr>\n",
       "    <tr>\n",
       "      <th>1</th>\n",
       "      <td>1.486169</td>\n",
       "      <td>-0.762816</td>\n",
       "      <td>1.142220</td>\n",
       "      <td>-0.881954</td>\n",
       "      <td>-0.295823</td>\n",
       "      <td>0.421586</td>\n",
       "      <td>-1.315679</td>\n",
       "      <td>0.559815</td>\n",
       "      <td>0.912539</td>\n",
       "    </tr>\n",
       "    <tr>\n",
       "      <th>2</th>\n",
       "      <td>-0.659258</td>\n",
       "      <td>0.147714</td>\n",
       "      <td>-0.582184</td>\n",
       "      <td>0.318019</td>\n",
       "      <td>0.308314</td>\n",
       "      <td>-0.715213</td>\n",
       "      <td>0.341952</td>\n",
       "      <td>1.057633</td>\n",
       "      <td>1.086270</td>\n",
       "    </tr>\n",
       "  </tbody>\n",
       "</table>\n",
       "</div>"
      ],
      "text/plain": [
       "   RichDLLe  RichDLLk  RichDLLmu  RichDLLp  RichDLLbt  Brunel_P  Brunel_ETA  \\\n",
       "0  0.482666  0.053458   0.053947 -0.548041   0.269786  0.720969    0.676907   \n",
       "1  1.486169 -0.762816   1.142220 -0.881954  -0.295823  0.421586   -1.315679   \n",
       "2 -0.659258  0.147714  -0.582184  0.318019   0.308314 -0.715213    0.341952   \n",
       "\n",
       "   nTracks_Brunel  probe_sWeight  \n",
       "0        0.097714       0.883707  \n",
       "1        0.559815       0.912539  \n",
       "2        1.057633       1.086270  "
      ]
     },
     "execution_count": 5,
     "metadata": {},
     "output_type": "execute_result"
    }
   ],
   "source": [
    "data_train.head(3)"
   ]
  },
  {
   "cell_type": "code",
   "execution_count": 97,
   "metadata": {},
   "outputs": [
    {
     "data": {
      "text/html": [
       "<div>\n",
       "<style scoped>\n",
       "    .dataframe tbody tr th:only-of-type {\n",
       "        vertical-align: middle;\n",
       "    }\n",
       "\n",
       "    .dataframe tbody tr th {\n",
       "        vertical-align: top;\n",
       "    }\n",
       "\n",
       "    .dataframe thead th {\n",
       "        text-align: right;\n",
       "    }\n",
       "</style>\n",
       "<table border=\"1\" class=\"dataframe\">\n",
       "  <thead>\n",
       "    <tr style=\"text-align: right;\">\n",
       "      <th></th>\n",
       "      <th>RichDLLe</th>\n",
       "      <th>RichDLLk</th>\n",
       "      <th>RichDLLmu</th>\n",
       "      <th>RichDLLp</th>\n",
       "      <th>RichDLLbt</th>\n",
       "      <th>Brunel_P</th>\n",
       "      <th>Brunel_ETA</th>\n",
       "      <th>nTracks_Brunel</th>\n",
       "      <th>probe_sWeight</th>\n",
       "    </tr>\n",
       "  </thead>\n",
       "  <tbody>\n",
       "    <tr>\n",
       "      <th>0</th>\n",
       "      <td>-0.740693</td>\n",
       "      <td>-16.0508</td>\n",
       "      <td>-0.632638</td>\n",
       "      <td>-34.847698</td>\n",
       "      <td>-14.840200</td>\n",
       "      <td>38470.097656</td>\n",
       "      <td>3.80586</td>\n",
       "      <td>188.0</td>\n",
       "      <td>0.883707</td>\n",
       "    </tr>\n",
       "    <tr>\n",
       "      <th>1</th>\n",
       "      <td>1.321450</td>\n",
       "      <td>-37.7416</td>\n",
       "      <td>0.724205</td>\n",
       "      <td>-43.950302</td>\n",
       "      <td>-27.527700</td>\n",
       "      <td>28710.900391</td>\n",
       "      <td>2.49073</td>\n",
       "      <td>231.0</td>\n",
       "      <td>0.912539</td>\n",
       "    </tr>\n",
       "    <tr>\n",
       "      <th>2</th>\n",
       "      <td>-15.385501</td>\n",
       "      <td>-13.9129</td>\n",
       "      <td>-3.808130</td>\n",
       "      <td>-13.912900</td>\n",
       "      <td>-13.912899</td>\n",
       "      <td>7743.160156</td>\n",
       "      <td>3.57836</td>\n",
       "      <td>303.0</td>\n",
       "      <td>1.086270</td>\n",
       "    </tr>\n",
       "  </tbody>\n",
       "</table>\n",
       "</div>"
      ],
      "text/plain": [
       "    RichDLLe  RichDLLk  RichDLLmu   RichDLLp  RichDLLbt      Brunel_P  \\\n",
       "0  -0.740693  -16.0508  -0.632638 -34.847698 -14.840200  38470.097656   \n",
       "1   1.321450  -37.7416   0.724205 -43.950302 -27.527700  28710.900391   \n",
       "2 -15.385501  -13.9129  -3.808130 -13.912900 -13.912899   7743.160156   \n",
       "\n",
       "   Brunel_ETA  nTracks_Brunel  probe_sWeight  \n",
       "0     3.80586           188.0       0.883707  \n",
       "1     2.49073           231.0       0.912539  \n",
       "2     3.57836           303.0       1.086270  "
      ]
     },
     "execution_count": 97,
     "metadata": {},
     "output_type": "execute_result"
    }
   ],
   "source": [
    "inversed_data_train = scaler.inverse_transform(data_train[data_train.columns[:-1]])\n",
    "inversed_data_train = pd.DataFrame(inversed_data_train, columns=data_train.columns[:-1])\n",
    "inversed_data_train['probe_sWeight'] = data_train['probe_sWeight']\n",
    "inversed_data_train.head(3)"
   ]
  },
  {
   "cell_type": "code",
   "execution_count": 98,
   "metadata": {},
   "outputs": [],
   "source": [
    "inversed_data_train = inversed_data_train[inversed_data_train['Brunel_ETA'] >= 3.39]\n",
    "inversed_data_train = inversed_data_train[inversed_data_train['Brunel_ETA'] <= 4.88]\n",
    "inversed_data_train = inversed_data_train[inversed_data_train['Brunel_P'] >= 3.35e+03]\n",
    "inversed_data_train = inversed_data_train[inversed_data_train['Brunel_P'] <= 1.52e+04]\n",
    "data_to_generate = scaler.transform(inversed_data_train[inversed_data_train.columns[:-1]].values) \n",
    "\n",
    "weights = inversed_data_train['probe_sWeight'].values\n",
    "weights = np.expand_dims(weights, axis=1) \n",
    "data_to_generate = np.hstack((data_to_generate, weights))\n",
    "\n",
    "generate_loader = torch.utils.data.DataLoader(ParticleDataset(data_to_generate),\n",
    "                                                    batch_size=BATCH_SIZE,\n",
    "                                                    shuffle=False,\n",
    "                                                    pin_memory=True)"
   ]
  },
  {
   "cell_type": "markdown",
   "metadata": {},
   "source": [
    "### Load a model "
   ]
  },
  {
   "cell_type": "code",
   "execution_count": 6,
   "metadata": {},
   "outputs": [],
   "source": [
    "from torch.quantization import QuantStub, DeQuantStub\n",
    "\n",
    "class Generator(nn.Module):\n",
    "    def __init__(self, hidden_size=128, depth=5):\n",
    "        super(Generator, self).__init__()\n",
    "        self.layers = nn.Sequential(\n",
    "            nn.Linear(hidden_size + data_train.shape[1] - 1 - rich_utils.y_count, hidden_size),\n",
    "            nn.BatchNorm1d(hidden_size),\n",
    "            nn.LeakyReLU(0.1),\n",
    "            *[nn.Sequential(\n",
    "                nn.utils.spectral_norm(nn.Linear(hidden_size, hidden_size)),\n",
    "                nn.BatchNorm1d(hidden_size),\n",
    "                nn.LeakyReLU(0.1)) for _ in range(depth)\n",
    "             ],\n",
    "            nn.Linear(hidden_size, rich_utils.y_count)\n",
    "        )\n",
    "        \n",
    "    def forward(self, x, noise=None):\n",
    "        x = torch.cat([x, get_noise(x.shape[0])], dim=1)\n",
    "        x = self.layers(x)\n",
    "        return x\n",
    "    \n",
    "class Critic(nn.Module):\n",
    "    def __init__(self, hidden_size=128, depth=5):\n",
    "        super(Critic, self).__init__()\n",
    "        self.layers = nn.Sequential(\n",
    "            nn.utils.spectral_norm(nn.Linear(data_train.shape[1] - 1, hidden_size)),\n",
    "            nn.LayerNorm(hidden_size),\n",
    "            nn.LeakyReLU(0.1),\n",
    "            *[nn.Sequential(\n",
    "                nn.utils.spectral_norm(nn.Linear(hidden_size, hidden_size)),\n",
    "                nn.LayerNorm(hidden_size),\n",
    "                nn.LeakyReLU(0.1))\n",
    "              for _ in range(depth)],\n",
    "            nn.utils.spectral_norm(nn.Linear(hidden_size, 1)),\n",
    "        )\n",
    "\n",
    "    def forward(self, x):\n",
    "        return self.layers(x)\n",
    "    \n",
    "        \n",
    "def get_noise(batch_size, mean=0, std=1):\n",
    "    return torch.zeros(batch_size, LATENT_DIMENSIONS).normal_(mean, std).to(device)"
   ]
  },
  {
   "cell_type": "code",
   "execution_count": 91,
   "metadata": {},
   "outputs": [
    {
     "data": {
      "text/plain": [
       "<All keys matched successfully>"
      ]
     },
     "execution_count": 91,
     "metadata": {},
     "output_type": "execute_result"
    }
   ],
   "source": [
    "netG = Generator(depth=5).to(device)\n",
    "netC = Critic(depth=5).to(device)\n",
    "\n",
    "netC.load_state_dict(torch.load('../weights/C_teacher.pth', map_location={'cuda:3':device}))\n",
    "netG.load_state_dict(torch.load('../weights/G_teacher_spectral_norm_schedulers5.pth', map_location={'cuda:3':device}))"
   ]
  },
  {
   "cell_type": "code",
   "execution_count": 92,
   "metadata": {},
   "outputs": [],
   "source": [
    "def generate(generator, device='cuda', loader=val_loader, iterations=None):\n",
    "    generator.eval()\n",
    "    \n",
    "    dlls = None\n",
    "    generated = None\n",
    "    weights = None\n",
    "    features = None\n",
    "\n",
    "    with torch.no_grad():\n",
    "        current_iterations = 0\n",
    "        for x, weight, real in loader:\n",
    "            \n",
    "            weight = weight.detach().cpu().numpy()\n",
    "            dll = real.detach().cpu().numpy()\n",
    "            x = x.to(device)\n",
    "            gen = generator(x).detach().cpu().numpy()\n",
    "            x = x.detach().cpu().numpy()\n",
    "\n",
    "            if dlls is None:\n",
    "                dlls = dll\n",
    "            else:\n",
    "                dlls = np.concatenate((dlls, dll))\n",
    "\n",
    "            if weights is None:\n",
    "                weights = weight\n",
    "            else:\n",
    "                weights = np.concatenate((weights, weight))\n",
    "\n",
    "            if generated is None:\n",
    "                generated = gen\n",
    "            else:\n",
    "                generated = np.concatenate((generated, gen))\n",
    "            \n",
    "            if features is None:\n",
    "                features = x\n",
    "            else:\n",
    "                features = np.concatenate((features, x))\n",
    "            \n",
    "            current_iterations += 1\n",
    "            if iterations is not None and current_iterations > iterations:\n",
    "                break\n",
    "    return dlls, generated, weights, features"
   ]
  },
  {
   "cell_type": "code",
   "execution_count": 110,
   "metadata": {},
   "outputs": [
    {
     "data": {
      "image/png": "[encoded data removed]",
      "text/plain": [
       "<Figure size 720x720 with 1 Axes>"
      ]
     },
     "metadata": {
      "needs_background": "light"
     },
     "output_type": "display_data"
    }
   ],
   "source": [
    "from core.metrics import hists\n",
    "\n",
    "dlls, generated, weights, features = generate(netG, loader=generate_loader)\n",
    "hists.plot_1d_hist(dlls, generated, hist_kws={'weights': weights})\n",
    "\n",
    "y = [1] * dlls.shape[0]\n",
    "y.extend(list([0] * generated.shape[0]))\n",
    "exp = np.exp(weights)\n",
    "y_weights = np.concatenate((exp, exp), axis=0)\n",
    "X = np.concatenate((dlls, generated))\n",
    "\n",
    "y = np.expand_dims(y, axis=1)\n",
    "y_weights = np.expand_dims(y_weights, axis=1)\n",
    "y = np.concatenate((y, y_weights), axis=1)\n",
    "\n",
    "X = scaler.inverse_transform(np.hstack((X, np.zeros((X.shape[0], 3)))))[:,:5]\n",
    "\n",
    "fig, ax = plt.subplots(1, 1, figsize=(10, 10))\n",
    "    \n",
    "sns.distplot(X[:len(X) // 2, 3], hist_kws={'alpha': 1}, kde=False, bins=50, ax=ax, label=\"real\")\n",
    "sns.distplot(X[len(X) // 2:, 3], hist_kws={'alpha': 0.5, 'fill': False}, kde=False, bins=50, ax=ax, label=\"gen\")\n",
    "\n",
    "ax.legend()\n",
    "ax.set_xlim([-100, 50])\n",
    "ax.set_title(rich_utils.dll_columns[1])\n",
    "\n",
    "plt.show()"
   ]
  },
  {
   "cell_type": "code",
   "execution_count": null,
   "metadata": {},
   "outputs": [],
   "source": []
  }
 ],
 "metadata": {
  "kernelspec": {
   "display_name": "Python 3",
   "language": "python",
   "name": "python3"
  },
  "language_info": {
   "codemirror_mode": {
    "name": "ipython",
    "version": 3
   },
   "file_extension": ".py",
   "mimetype": "text/x-python",
   "name": "python",
   "nbconvert_exporter": "python",
   "pygments_lexer": "ipython3",
   "version": "3.7.3"
  }
 },
 "nbformat": 4,
 "nbformat_minor": 2
}
