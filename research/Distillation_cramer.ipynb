{
 "cells": [
  {
   "cell_type": "markdown",
   "metadata": {},
   "source": [
    "# Train student GAN"
   ]
  },
  {
   "cell_type": "code",
   "execution_count": 1,
   "metadata": {},
   "outputs": [],
   "source": [
    "from sklearn.preprocessing import StandardScaler\n",
    "from itertools import repeat\n",
    "from tqdm import tqdm_notebook, tqdm\n",
    "from torch.autograd import Variable, grad\n",
    "from torch.optim import AdamW, RMSprop\n",
    "from torch import autograd\n",
    "from torch import nn\n",
    "\n",
    "import wandb\n",
    "import seaborn as sns\n",
    "import pandas as pd\n",
    "import numpy as np\n",
    "import torch\n",
    "import torch.nn.functional as F\n",
    "import matplotlib.pyplot as plt"
   ]
  },
  {
   "cell_type": "code",
   "execution_count": 2,
   "metadata": {},
   "outputs": [],
   "source": [
    "import os\n",
    "os.environ[\"CUDA_VISIBLE_DEVICES\"]=\"3\""
   ]
  },
  {
   "cell_type": "code",
   "execution_count": 3,
   "metadata": {},
   "outputs": [],
   "source": [
    "SIGNAL = 'Pion'\n",
    "MAX_EPOCH = 4000\n",
    "TEACHER_LAYERS = 10\n",
    "STUDENT_LAYERS = 3\n",
    "LATENT_DIMENSIONS = 256\n",
    "BATCH_SIZE = 5000\n",
    "BATCH_SIZE_TEST = 8192\n",
    "device = 'cuda' if torch.cuda.is_available() else 'cpu'"
   ]
  },
  {
   "cell_type": "code",
   "execution_count": 4,
   "metadata": {},
   "outputs": [],
   "source": [
    "weight_cliping_limit = 0.015\n",
    "lr = 0.00005"
   ]
  },
  {
   "cell_type": "markdown",
   "metadata": {},
   "source": [
    "## Data"
   ]
  },
  {
   "cell_type": "code",
   "execution_count": 5,
   "metadata": {},
   "outputs": [],
   "source": [
    "train = pd.read_csv('../data/MCRICHdata/MCRICH_train.csv')\n",
    "test = pd.read_csv('../data/MCRICHdata/MCRICH_test.csv')"
   ]
  },
  {
   "cell_type": "code",
   "execution_count": 6,
   "metadata": {},
   "outputs": [],
   "source": [
    "# Download data\n",
    "train = pd.read_csv('../data/MCRICHdata/MCRICH_train.csv')\n",
    "test = pd.read_csv('../data/MCRICHdata/MCRICH_test.csv')\n",
    "# Filter it by the signal\n",
    "train = train[train['Signal'] == SIGNAL]\n",
    "test = test[test['Signal'] == SIGNAL]\n",
    "# Delete useless columns\n",
    "del train['Signal']\n",
    "del test['Signal']"
   ]
  },
  {
   "cell_type": "code",
   "execution_count": 7,
   "metadata": {},
   "outputs": [
    {
     "name": "stdout",
     "output_type": "stream",
     "text": [
      "1000006\n"
     ]
    },
    {
     "data": {
      "text/html": [
       "<div>\n",
       "<style scoped>\n",
       "    .dataframe tbody tr th:only-of-type {\n",
       "        vertical-align: middle;\n",
       "    }\n",
       "\n",
       "    .dataframe tbody tr th {\n",
       "        vertical-align: top;\n",
       "    }\n",
       "\n",
       "    .dataframe thead th {\n",
       "        text-align: right;\n",
       "    }\n",
       "</style>\n",
       "<table border=\"1\" class=\"dataframe\">\n",
       "  <thead>\n",
       "    <tr style=\"text-align: right;\">\n",
       "      <th></th>\n",
       "      <th>TrackP</th>\n",
       "      <th>TrackPt</th>\n",
       "      <th>NumProtoParticles</th>\n",
       "      <th>RichDLLe</th>\n",
       "      <th>RichDLLmu</th>\n",
       "      <th>RichDLLk</th>\n",
       "      <th>RichDLLp</th>\n",
       "      <th>RichDLLbt</th>\n",
       "    </tr>\n",
       "  </thead>\n",
       "  <tbody>\n",
       "    <tr>\n",
       "      <th>2286</th>\n",
       "      <td>5383.890137</td>\n",
       "      <td>292.449890</td>\n",
       "      <td>145.0</td>\n",
       "      <td>-8.547900</td>\n",
       "      <td>1.1894</td>\n",
       "      <td>-4.8921</td>\n",
       "      <td>-4.8921</td>\n",
       "      <td>-4.8921</td>\n",
       "    </tr>\n",
       "    <tr>\n",
       "      <th>2287</th>\n",
       "      <td>5875.910156</td>\n",
       "      <td>537.121704</td>\n",
       "      <td>32.0</td>\n",
       "      <td>-30.771500</td>\n",
       "      <td>-9.2196</td>\n",
       "      <td>-24.2808</td>\n",
       "      <td>-24.2808</td>\n",
       "      <td>-24.2808</td>\n",
       "    </tr>\n",
       "    <tr>\n",
       "      <th>2288</th>\n",
       "      <td>5114.390137</td>\n",
       "      <td>996.601135</td>\n",
       "      <td>92.0</td>\n",
       "      <td>-53.311001</td>\n",
       "      <td>-27.5772</td>\n",
       "      <td>-30.7045</td>\n",
       "      <td>-30.7045</td>\n",
       "      <td>-30.7045</td>\n",
       "    </tr>\n",
       "    <tr>\n",
       "      <th>2289</th>\n",
       "      <td>20254.830078</td>\n",
       "      <td>514.304382</td>\n",
       "      <td>131.0</td>\n",
       "      <td>-6.002100</td>\n",
       "      <td>-2.0739</td>\n",
       "      <td>-1.2550</td>\n",
       "      <td>-1.6131</td>\n",
       "      <td>-1.6131</td>\n",
       "    </tr>\n",
       "    <tr>\n",
       "      <th>2290</th>\n",
       "      <td>3026.860107</td>\n",
       "      <td>303.679565</td>\n",
       "      <td>68.0</td>\n",
       "      <td>-17.817699</td>\n",
       "      <td>0.4731</td>\n",
       "      <td>-0.4927</td>\n",
       "      <td>-0.4927</td>\n",
       "      <td>-0.4927</td>\n",
       "    </tr>\n",
       "  </tbody>\n",
       "</table>\n",
       "</div>"
      ],
      "text/plain": [
       "            TrackP     TrackPt  NumProtoParticles   RichDLLe  RichDLLmu  \\\n",
       "2286   5383.890137  292.449890              145.0  -8.547900     1.1894   \n",
       "2287   5875.910156  537.121704               32.0 -30.771500    -9.2196   \n",
       "2288   5114.390137  996.601135               92.0 -53.311001   -27.5772   \n",
       "2289  20254.830078  514.304382              131.0  -6.002100    -2.0739   \n",
       "2290   3026.860107  303.679565               68.0 -17.817699     0.4731   \n",
       "\n",
       "      RichDLLk  RichDLLp  RichDLLbt  \n",
       "2286   -4.8921   -4.8921    -4.8921  \n",
       "2287  -24.2808  -24.2808   -24.2808  \n",
       "2288  -30.7045  -30.7045   -30.7045  \n",
       "2289   -1.2550   -1.6131    -1.6131  \n",
       "2290   -0.4927   -0.4927    -0.4927  "
      ]
     },
     "execution_count": 7,
     "metadata": {},
     "output_type": "execute_result"
    }
   ],
   "source": [
    "print(len(train))\n",
    "train.head()"
   ]
  },
  {
   "cell_type": "code",
   "execution_count": 8,
   "metadata": {},
   "outputs": [
    {
     "data": {
      "text/plain": [
       "974413"
      ]
     },
     "execution_count": 8,
     "metadata": {},
     "output_type": "execute_result"
    }
   ],
   "source": [
    "# drop errors \n",
    "for col in ['RichDLLe', 'RichDLLmu', 'RichDLLk', 'RichDLLp', 'RichDLLbt']:\n",
    "    train = train[train[col] != -999]\n",
    "    test = test[test[col] != -999]\n",
    "len(train)"
   ]
  },
  {
   "cell_type": "code",
   "execution_count": 9,
   "metadata": {},
   "outputs": [],
   "source": [
    "scalers = [None for i in range(len(train.columns))]\n",
    "for idx, i in enumerate(train.columns):\n",
    "    values = train[i].values\n",
    "    values = values.reshape((len(values), 1))\n",
    "    scaler = StandardScaler()\n",
    "    scaler = scaler.fit(values)\n",
    "    scalers[idx] = scaler\n",
    "    train[i] = scaler.transform(values)\n",
    "    values_test = test[i].values\n",
    "    values_test = values_test.reshape((len(values_test), 1))\n",
    "    test[i] = scaler.transform(values_test)"
   ]
  },
  {
   "cell_type": "code",
   "execution_count": 10,
   "metadata": {},
   "outputs": [],
   "source": [
    "train_x, train_y = train[train.columns[:3]], train[train.columns[3:]]\n",
    "test_x, test_y = test[test.columns[:3]], test[test.columns[3:]]"
   ]
  },
  {
   "cell_type": "code",
   "execution_count": 11,
   "metadata": {},
   "outputs": [],
   "source": [
    "class ParticleSet(torch.utils.data.Dataset):\n",
    "    def __init__(self, data):\n",
    "        self.data_x, self.data_y = data[data.columns[:3]].values, data[data.columns[3:]].values\n",
    "    \n",
    "    def __len__(self):\n",
    "        return self.data_x.shape[0]\n",
    "    \n",
    "    def __getitem__(self, index):\n",
    "        return (self.data_x[index], self.data_y[index])\n",
    "\n",
    "    \n",
    "train_loader = torch.utils.data.DataLoader(ParticleSet(train),\n",
    "                                           batch_size=BATCH_SIZE,\n",
    "                                           shuffle=True,\n",
    "                                           pin_memory=True)\n",
    "\n",
    "test_loader = torch.utils.data.DataLoader(ParticleSet(test),\n",
    "                                          batch_size=BATCH_SIZE_TEST,\n",
    "                                          shuffle=False,\n",
    "                                          pin_memory=True)"
   ]
  },
  {
   "cell_type": "markdown",
   "metadata": {},
   "source": [
    "## Model"
   ]
  },
  {
   "cell_type": "code",
   "execution_count": 12,
   "metadata": {},
   "outputs": [],
   "source": [
    "class Generator(nn.Module):\n",
    "    def __init__(self, noise_size=64, hidden_size=128, depth=5):\n",
    "        super(Generator, self).__init__()\n",
    "        self.noise_size = noise_size\n",
    "        self.layers = nn.Sequential(*(\n",
    "            [nn.Linear(noise_size + 3, hidden_size), nn.SELU()]\n",
    "            + [nn.Linear(hidden_size, hidden_size), nn.SELU()] * (depth - 1)\n",
    "            + [nn.Linear(hidden_size, 5)]\n",
    "        ))\n",
    "\n",
    "    def forward(self, x, noise=None):\n",
    "        if noise is None:\n",
    "            noise = get_noise(x.shape[0], self.noise_size)\n",
    "        return self.layers(torch.cat([x, noise], dim=1))\n",
    "\n",
    "    \n",
    "class Discriminator(nn.Module):\n",
    "    def __init__(self, hidden_size=128, depth=5):\n",
    "        super(Discriminator, self).__init__()\n",
    "        self.layers = nn.Sequential(*(\n",
    "            [nn.Linear(train.shape[1], hidden_size), nn.SELU()]\n",
    "            + [nn.Linear(hidden_size, hidden_size), nn.SELU()] * (depth - 1)\n",
    "            + [nn.Linear(hidden_size, 512)]\n",
    "        ))\n",
    "\n",
    "    def forward(self, x):\n",
    "        return self.layers(x)\n",
    "    \n",
    "    def get_after_n(self, x, n):\n",
    "        for idx, (name, layer) in enumerate(self._modules.items()):\n",
    "            x = layer(x)\n",
    "            if idx == n:\n",
    "                break\n",
    "        return x\n",
    "    \n",
    "    \n",
    "def get_noise(batch_size, noise_size=128, mean=0, std=1):\n",
    "    return torch.zeros(batch_size, noise_size).normal_(mean, std).to(device)\n",
    "\n",
    "def init_weights(m):\n",
    "    if type(m) == nn.Linear:\n",
    "        torch.nn.init.xavier_uniform_(m.weight)\n",
    "        m.bias.data.fill_(0.01)"
   ]
  },
  {
   "cell_type": "code",
   "execution_count": 13,
   "metadata": {},
   "outputs": [],
   "source": [
    "G = Generator(depth=TEACHER_LAYERS, hidden_size=LATENT_DIMENSIONS).to(device)\n",
    "G.apply(init_weights)\n",
    "\n",
    "D = Discriminator(depth=TEACHER_LAYERS, hidden_size=LATENT_DIMENSIONS).to(device)\n",
    "D.apply(init_weights)\n",
    "\n",
    "G_student = Generator(depth=STUDENT_LAYERS, hidden_size=LATENT_DIMENSIONS).to(device)\n",
    "G_student.apply(init_weights)\n",
    "\n",
    "D_student = Discriminator(depth=STUDENT_LAYERS, hidden_size=LATENT_DIMENSIONS).to(device)\n",
    "D_student.apply(init_weights);"
   ]
  },
  {
   "cell_type": "code",
   "execution_count": 14,
   "metadata": {},
   "outputs": [],
   "source": [
    "optimizerD = RMSprop(D_student.parameters(), lr=lr) \n",
    "optimizerG = RMSprop(G_student.parameters(), lr=lr) \n",
    "\n",
    "D.load_state_dict(torch.load(f'{SIGNAL}/D_teacher_2000.pth'))\n",
    "G.load_state_dict(torch.load(f'{SIGNAL}/G_teacher_2000.pth'))\n",
    "\n",
    "D.to(device)\n",
    "G.to(device)\n",
    "D_student.to(device)\n",
    "G_student.to(device);"
   ]
  },
  {
   "cell_type": "markdown",
   "metadata": {},
   "source": [
    "## Train"
   ]
  },
  {
   "cell_type": "code",
   "execution_count": 15,
   "metadata": {},
   "outputs": [
    {
     "name": "stderr",
     "output_type": "stream",
     "text": [
      "Failed to query for notebook name, you can set it manually with the WANDB_NOTEBOOK_NAME environment variable\n",
      "\u001b[34m\u001b[1mwandb\u001b[0m: Currently logged in as: \u001b[33mapshirokov\u001b[0m (use `wandb login --relogin` to force relogin)\n",
      "\u001b[34m\u001b[1mwandb\u001b[0m: wandb version 0.10.13 is available!  To upgrade, please run:\n",
      "\u001b[34m\u001b[1mwandb\u001b[0m:  $ pip install wandb --upgrade\n"
     ]
    },
    {
     "data": {
      "text/html": [
       "\n",
       "                Tracking run with wandb version 0.10.12<br/>\n",
       "                Syncing run <strong style=\"color:#cdcd00\">dauntless-fire-75</strong> to <a href=\"https://wandb.ai\" target=\"_blank\">Weights & Biases</a> <a href=\"https://docs.wandb.com/integrations/jupyter.html\" target=\"_blank\">(Documentation)</a>.<br/>\n",
       "                Project page: <a href=\"https://wandb.ai/apshirokov/rich-gan-distilling\" target=\"_blank\">https://wandb.ai/apshirokov/rich-gan-distilling</a><br/>\n",
       "                Run page: <a href=\"https://wandb.ai/apshirokov/rich-gan-distilling/runs/3pya4q5q\" target=\"_blank\">https://wandb.ai/apshirokov/rich-gan-distilling/runs/3pya4q5q</a><br/>\n",
       "                Run data is saved locally in <code>/datadrive/mrartemev/Students/Artemiy/RICH/research/wandb/run-20210114_203508-3pya4q5q</code><br/><br/>\n",
       "            "
      ],
      "text/plain": [
       "<IPython.core.display.HTML object>"
      ]
     },
     "metadata": {},
     "output_type": "display_data"
    },
    {
     "data": {
      "text/html": [
       "<h1>Run(3pya4q5q)</h1><p></p><iframe src=\"https://wandb.ai/apshirokov/rich-gan-distilling/runs/3pya4q5q\" style=\"border:none;width:100%;height:400px\"></iframe>"
      ],
      "text/plain": [
       "<wandb.sdk.wandb_run.Run at 0x7f9a2f0d8450>"
      ]
     },
     "execution_count": 15,
     "metadata": {},
     "output_type": "execute_result"
    }
   ],
   "source": [
    "# Weights & Biases\n",
    "wandb.init(project=\"rich-gan-distilling\")"
   ]
  },
  {
   "cell_type": "code",
   "execution_count": 16,
   "metadata": {},
   "outputs": [],
   "source": [
    "# The coefficients needed for losses\n",
    "alpha = 10\n",
    "l_4coef = 0.1\n",
    "l_5coef = 0.0000001\n",
    "l_7coef = 0.00001\n",
    "l_8coef = 0.0001"
   ]
  },
  {
   "cell_type": "code",
   "execution_count": 17,
   "metadata": {},
   "outputs": [],
   "source": [
    "def l1_norm(x):\n",
    "    return torch.abs(x).sum(dim=(1))"
   ]
  },
  {
   "cell_type": "code",
   "execution_count": null,
   "metadata": {},
   "outputs": [
    {
     "name": "stderr",
     "output_type": "stream",
     "text": [
      " 29%|██▉       | 1166/4000 [9:15:59<22:33:40, 28.66s/it]"
     ]
    }
   ],
   "source": [
    "G_student = G_student.float()\n",
    "D_student = D_student.float()\n",
    "G = G.float()\n",
    "D = D.float()\n",
    "step = 0\n",
    "for epoch in tqdm(range(MAX_EPOCH)):\n",
    "    for ii, batch in enumerate(train_loader, 0):\n",
    "        x = batch[0].float().to(device)\n",
    "        dll = batch[1].float().to(device)\n",
    "        real_row = torch.cat([x, dll], dim=1)\n",
    "        \n",
    "        if (ii + 1) % 5:\n",
    "            # Train Discriminator...\n",
    "            D_student.zero_grad()\n",
    "            \n",
    "            # Clamp parameters to a range [-c, c], c=self.weight_cliping_limit\n",
    "            for p in D.parameters():\n",
    "                p.data.clamp_(-weight_cliping_limit, weight_cliping_limit)\n",
    "            \n",
    "            # with real dll\n",
    "            real_loss = D_student(real_row)\n",
    "            # with fake dll\n",
    "            fake_dll = G_student(x).detach()\n",
    "            fake_row = torch.cat([x, fake_dll], dim=1)\n",
    "            fake_loss = D_student(fake_row)\n",
    "            # GP\n",
    "            #gradient_penalty = calc_derv4gp(D_student, real_row, fake_row)\n",
    "            # total discriminator loss\n",
    "            discriminator_loss = fake_loss.mean() - real_loss.mean()# + gradient_penalty*10\n",
    "            wandb.log({\"Critic loss\": discriminator_loss.item()})\n",
    "            discriminator_loss.backward()\n",
    "            \n",
    "            teacher_dll = G(x).detach()\n",
    "            teacher_row = torch.cat([x, teacher_dll], dim=1)\n",
    "            # Calculate L_Gt  (Fcn. 7 from paper) \n",
    "            output_gt = -l_7coef*D_student(teacher_row).mean()\n",
    "            wandb.log({\"L_Gt\": output_gt.item()})\n",
    "            output_gt.backward()\n",
    "            \n",
    "            # Calculate L_tri (Fcn. 8 from paper)\n",
    "            output_tri = l1_norm(D_student.get_after_n(real_row, 3) - D_student.get_after_n(teacher_row, 3)) - \\\n",
    "                      l1_norm(D_student.get_after_n(real_row, 3) - D_student.get_after_n(fake_row, 3)) + alpha\n",
    "            output_tri = l_8coef*torch.clamp(output_tri, min=0).mean()\n",
    "            output_tri.backward()\n",
    "            wandb.log({\"L_tri\": output_tri.item()})\n",
    "            \n",
    "            optimizerD.step()\n",
    "        else:\n",
    "            # Train Generator\n",
    "            optimizerG.zero_grad()\n",
    "            fake_dll = G_student(x)\n",
    "            fake_row = torch.cat([x, fake_dll], dim=1)\n",
    "            teacher_dll = G(x)\n",
    "            teacher_row = torch.cat([x, teacher_dll], dim=1)\n",
    "            generator_loss = -D_student(fake_row).mean()\n",
    "            wandb.log({\"Generator loss\": generator_loss.item()})\n",
    "            generator_loss.backward()\n",
    "            \n",
    "            # Calculate L1_loss (Fcn. 4 from paper)\n",
    "            l1 = l_4coef * (l1_norm(G(x) - G_student(x)).pow(2))\n",
    "            # Calculate L_perc  (Fcn. 5 from paper)\n",
    "            fake_dll = G_student(x)\n",
    "            fake_row = torch.cat([x, fake_dll], dim=1)\n",
    "            teacher_dll = G(x)\n",
    "            teacher_row = torch.cat([x, teacher_dll], dim=1)\n",
    "            l_perc = l_5coef * (l1_norm(D.get_after_n(teacher_row, 3) - D.get_after_n(fake_row, 3)).pow(2))\n",
    "            \n",
    "            # Combine two losses\n",
    "            l_kd_generator = (l1 + l_perc).mean()\n",
    "            l_kd_generator.backward()\n",
    "            # L1 ONLY\n",
    "#             l1.backward()\n",
    "            \n",
    "            wandb.log({\"L1_loss\": l1.mean().item()})\n",
    "            wandb.log({\"L_perc\": l_perc.mean().item()})\n",
    "            wandb.log({\"L1_loss + L_perc\": l_kd_generator.item()})\n",
    "            \n",
    "            optimizerG.step()\n",
    "        step += 1\n",
    "    # Save weights\n",
    "    if epoch % 100 == 0:\n",
    "        torch.save(D_student.state_dict(),f'{SIGNAL}/D_student_full.pth')\n",
    "        torch.save(G_student.state_dict(),f'{SIGNAL}/G_student_full.pth')"
   ]
  },
  {
   "cell_type": "markdown",
   "metadata": {},
   "source": [
    "## Test"
   ]
  },
  {
   "cell_type": "code",
   "execution_count": 15,
   "metadata": {},
   "outputs": [],
   "source": [
    "def inversescale(data):\n",
    "    for i in range(data.shape[1]):\n",
    "        scaler = scalers[i+3]\n",
    "        column = data[:, i]\n",
    "        column = column.reshape((len(column), 1))\n",
    "        data[:,i] = scaler.inverse_transform(column)[:,0]\n",
    "    return data"
   ]
  },
  {
   "cell_type": "code",
   "execution_count": 16,
   "metadata": {},
   "outputs": [
    {
     "data": {
      "text/plain": [
       "<All keys matched successfully>"
      ]
     },
     "execution_count": 16,
     "metadata": {},
     "output_type": "execute_result"
    }
   ],
   "source": [
    "G_student.load_state_dict(torch.load(f'{SIGNAL}/G_student_full.pth'))\n",
    "D_student.load_state_dict(torch.load(f'{SIGNAL}/D_student_full.pth'))"
   ]
  },
  {
   "cell_type": "code",
   "execution_count": 21,
   "metadata": {},
   "outputs": [
    {
     "data": {
      "image/png": "[encoded data removed]",
      "text/plain": [
       "<Figure size 1080x1080 with 6 Axes>"
      ]
     },
     "metadata": {
      "needs_background": "light"
     },
     "output_type": "display_data"
    }
   ],
   "source": [
    "dlls = None\n",
    "teacher_generated = None\n",
    "student_generated = None\n",
    "\n",
    "with torch.no_grad():\n",
    "    for x, dll in test_loader:\n",
    "        dll = dll.detach().cpu().numpy()\n",
    "        x = x.float().to(device)\n",
    "        gen_tea = G(x).detach().cpu().numpy()\n",
    "        gen_stu = G_student(x).detach().cpu().numpy()\n",
    "\n",
    "        if dlls is None:\n",
    "            dlls = dll\n",
    "        else:\n",
    "            dlls = np.concatenate((dlls, dll))\n",
    "\n",
    "        if teacher_generated is None:\n",
    "            teacher_generated = gen_tea\n",
    "        else:\n",
    "            teacher_generated = np.concatenate((teacher_generated, gen_tea))\n",
    "            \n",
    "        if student_generated is None:\n",
    "            student_generated = gen_tea\n",
    "        else:\n",
    "            student_generated = np.concatenate((student_generated, gen_stu))\n",
    "\n",
    "    fig, axes = plt.subplots(3, 2, figsize=(15, 15))\n",
    "    for particle_type, ax in zip((0, 1, 2, 3, 4), axes.flatten()):\n",
    "        sns.distplot(dlls[:, particle_type], hist_kws={'alpha': 1}, kde=False, bins=100, ax=ax, label=\"real\", norm_hist=True)\n",
    "        sns.distplot(teacher_generated[:, particle_type], hist_kws={'alpha': 0.5}, kde=False, bins=100, ax=ax, label=\"gen\", norm_hist=True)\n",
    "        sns.distplot(student_generated[:, particle_type], hist_kws={'alpha': 0.5}, kde=False, bins=100, ax=ax, label=\"gen\", norm_hist=True)\n",
    "        ax.legend()\n",
    "        ax.set_title(particle_type)\n",
    "\n",
    "    plt.show()"
   ]
  },
  {
   "cell_type": "code",
   "execution_count": 22,
   "metadata": {},
   "outputs": [
    {
     "data": {
      "image/png": "[encoded data removed]",
      "text/plain": [
       "<Figure size 1080x1080 with 6 Axes>"
      ]
     },
     "metadata": {
      "needs_background": "light"
     },
     "output_type": "display_data"
    }
   ],
   "source": [
    "dlls_inversed = inversescale(dlls)\n",
    "teacher_generated_inversed = inversescale(teacher_generated)\n",
    "student_generated_inversed = inversescale(student_generated)\n",
    "\n",
    "\n",
    "fig, axes = plt.subplots(3, 2, figsize=(15, 15))\n",
    "for particle_type, ax in zip((0, 1, 2, 3, 4), axes.flatten()):\n",
    "    sns.distplot(dlls_inversed[:, particle_type], hist_kws={'alpha': 1}, kde=False, bins=100, ax=ax, label=\"real\", norm_hist=True)\n",
    "    sns.distplot(teacher_generated_inversed[:, particle_type], hist_kws={'alpha': 0.5}, kde=False, bins=100, ax=ax, label=\"teacher\", norm_hist=True)\n",
    "    sns.distplot(student_generated_inversed[:, particle_type], hist_kws={'alpha': 0.5}, kde=False, bins=100, ax=ax, label=\"student\", norm_hist=True)\n",
    "    ax.legend()\n",
    "    ax.set_title(particle_type)\n",
    "\n",
    "plt.show()"
   ]
  },
  {
   "cell_type": "code",
   "execution_count": 24,
   "metadata": {},
   "outputs": [
    {
     "name": "stderr",
     "output_type": "stream",
     "text": [
      "Warning: less than 75% gpu memory available for training. Free: 6768.5 Total: 11441.1875\n"
     ]
    },
    {
     "data": {
      "text/plain": [
       "0.717739156886109"
      ]
     },
     "execution_count": 24,
     "metadata": {},
     "output_type": "execute_result"
    }
   ],
   "source": [
    "from sklearn.model_selection import train_test_split\n",
    "from catboost import CatBoostClassifier\n",
    "\n",
    "y = [1] * dlls_inversed.shape[0]\n",
    "y.extend(list([0] * student_generated_inversed.shape[0]))\n",
    "X = np.concatenate((dlls_inversed, student_generated_inversed))\n",
    "\n",
    "X_train, X_test, y_train, y_test = train_test_split(X, y, test_size=0.33, random_state=42, shuffle=True)\n",
    "\n",
    "classifier = CatBoostClassifier(iterations=1000,\n",
    "                custom_metric=['Logloss', 'AUC'],\n",
    "                task_type=\"GPU\",\n",
    "                devices='0:1')\n",
    "\n",
    "classifier.fit(X_train,\n",
    "                y_train,\n",
    "                verbose=False,\n",
    "                plot=False);\n",
    "\n",
    "predicted = classifier.predict(X_test)\n",
    "\n",
    "from sklearn import metrics\n",
    "\n",
    "fpr, tpr, thresholds = metrics.roc_curve(y_test, predicted, pos_label=1)\n",
    "metrics.auc(fpr, tpr)"
   ]
  }
 ],
 "metadata": {
  "kernelspec": {
   "display_name": "Python 3",
   "language": "python",
   "name": "python3"
  },
  "language_info": {
   "codemirror_mode": {
    "name": "ipython",
    "version": 3
   },
   "file_extension": ".py",
   "mimetype": "text/x-python",
   "name": "python",
   "nbconvert_exporter": "python",
   "pygments_lexer": "ipython3",
   "version": "3.7.9"
  }
 },
 "nbformat": 4,
 "nbformat_minor": 4
}
