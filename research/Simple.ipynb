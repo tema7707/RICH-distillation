{
 "cells": [
  {
   "cell_type": "code",
   "execution_count": 1,
   "metadata": {},
   "outputs": [],
   "source": [
    "import torch_utils_rich_mrartemev as utils_rich\n",
    "import wandb\n",
    "import torch\n",
    "import torch.nn.functional as F\n",
    "import pandas as pd\n",
    "import seaborn as sns\n",
    "import numpy as np\n",
    "import matplotlib.pyplot as plt\n",
    "import os\n",
    "import scipy\n",
    "\n",
    "from sklearn.model_selection import train_test_split\n",
    "from sklearn.preprocessing import StandardScaler, MinMaxScaler\n",
    "from catboost import CatBoostClassifier, Pool\n",
    "\n",
    "from torch import nn\n",
    "from IPython.display import clear_output\n",
    "from tqdm import tqdm_notebook, tqdm\n",
    "from torch.autograd import Variable, grad\n",
    "from torch.utils.data import DataLoader\n",
    "\n",
    "from data import *\n",
    "\n",
    "\n",
    "%matplotlib inline"
   ]
  },
  {
   "cell_type": "markdown",
   "metadata": {},
   "source": [
    "## Configurations"
   ]
  },
  {
   "cell_type": "code",
   "execution_count": 2,
   "metadata": {},
   "outputs": [],
   "source": [
    "os.environ[\"CUDA_VISIBLE_DEVICES\"]=\"1\"\n",
    "\n",
    "PARTICLE_TYPE = 'pion'\n",
    "\n",
    "BATCH_SIZE = 4096\n",
    "BATCH_SIZE_VAL = 8192\n",
    "LATENT_DIMENSIONS = 64\n",
    "NOISE_SIZE = 64\n",
    "CRAMER_DIM = 512\n",
    "NUM_LAYERS = 10\n",
    "\n",
    "CRITIC_ITERATIONS_CONST = 10\n",
    "TOTAL_ITERATIONS = int(6e4) // 245\n",
    "VALIDATION_INTERVAL = 1000\n",
    "\n",
    "device = 'cuda' if torch.cuda.is_available() else 'cpu'"
   ]
  },
  {
   "cell_type": "markdown",
   "metadata": {},
   "source": [
    "## Data"
   ]
  },
  {
   "cell_type": "code",
   "execution_count": 3,
   "metadata": {},
   "outputs": [
    {
     "name": "stdout",
     "output_type": "stream",
     "text": [
      "Reading and concatenating datasets:\n",
      "\t../data/data_calibsample/pion2_-_down_2016_.csv\n",
      "\t../data/data_calibsample/pion_+_down_2016_.csv\n",
      "\t../data/data_calibsample/pion_-_up_2016_.csv\n",
      "\t../data/data_calibsample/pion_-_down_2016_.csv\n",
      "\t../data/data_calibsample/pion2_+_down_2016_.csv\n",
      "\t../data/data_calibsample/pion2_-_up_2016_.csv\n",
      "\t../data/data_calibsample/pion_+_up_2016_.csv\n",
      "\t../data/data_calibsample/pion2_+_up_2016_.csv\n",
      "splitting to train/val/test\n",
      "fitting the scaler\n",
      "scaler train sample size: 2000000\n",
      "scaler n_quantiles: 100000, time = 1.8527002334594727\n",
      "scaling train set\n",
      "scaling test set\n",
      "converting dtype to <class 'numpy.float32'>\n"
     ]
    }
   ],
   "source": [
    "data_train, data_val, scaler = utils_rich.get_merged_typed_dataset(PARTICLE_TYPE, dtype=np.float32, log=True)"
   ]
  },
  {
   "cell_type": "code",
   "execution_count": 4,
   "metadata": {},
   "outputs": [
    {
     "data": {
      "text/html": [
       "<div>\n",
       "<style scoped>\n",
       "    .dataframe tbody tr th:only-of-type {\n",
       "        vertical-align: middle;\n",
       "    }\n",
       "\n",
       "    .dataframe tbody tr th {\n",
       "        vertical-align: top;\n",
       "    }\n",
       "\n",
       "    .dataframe thead th {\n",
       "        text-align: right;\n",
       "    }\n",
       "</style>\n",
       "<table border=\"1\" class=\"dataframe\">\n",
       "  <thead>\n",
       "    <tr style=\"text-align: right;\">\n",
       "      <th></th>\n",
       "      <th>RichDLLe</th>\n",
       "      <th>RichDLLk</th>\n",
       "      <th>RichDLLmu</th>\n",
       "      <th>RichDLLp</th>\n",
       "      <th>RichDLLbt</th>\n",
       "      <th>Brunel_P</th>\n",
       "      <th>Brunel_ETA</th>\n",
       "      <th>nTracks_Brunel</th>\n",
       "      <th>probe_sWeight</th>\n",
       "    </tr>\n",
       "  </thead>\n",
       "  <tbody>\n",
       "    <tr>\n",
       "      <th>0</th>\n",
       "      <td>-0.137913</td>\n",
       "      <td>0.752415</td>\n",
       "      <td>-0.161572</td>\n",
       "      <td>1.969835</td>\n",
       "      <td>0.716873</td>\n",
       "      <td>0.336067</td>\n",
       "      <td>1.224999</td>\n",
       "      <td>-0.003146</td>\n",
       "      <td>-0.300134</td>\n",
       "    </tr>\n",
       "    <tr>\n",
       "      <th>1</th>\n",
       "      <td>-1.612356</td>\n",
       "      <td>-0.535916</td>\n",
       "      <td>-1.982668</td>\n",
       "      <td>-0.428717</td>\n",
       "      <td>-0.463100</td>\n",
       "      <td>-0.971959</td>\n",
       "      <td>-2.618654</td>\n",
       "      <td>0.166582</td>\n",
       "      <td>1.166070</td>\n",
       "    </tr>\n",
       "    <tr>\n",
       "      <th>2</th>\n",
       "      <td>0.932412</td>\n",
       "      <td>1.038359</td>\n",
       "      <td>0.608335</td>\n",
       "      <td>1.106957</td>\n",
       "      <td>1.048316</td>\n",
       "      <td>-1.021535</td>\n",
       "      <td>1.356614</td>\n",
       "      <td>-0.476306</td>\n",
       "      <td>0.665584</td>\n",
       "    </tr>\n",
       "    <tr>\n",
       "      <th>3</th>\n",
       "      <td>-0.285678</td>\n",
       "      <td>-0.611991</td>\n",
       "      <td>-0.371452</td>\n",
       "      <td>-0.462490</td>\n",
       "      <td>0.056593</td>\n",
       "      <td>0.378037</td>\n",
       "      <td>0.119488</td>\n",
       "      <td>0.322746</td>\n",
       "      <td>0.290850</td>\n",
       "    </tr>\n",
       "    <tr>\n",
       "      <th>4</th>\n",
       "      <td>1.315785</td>\n",
       "      <td>-0.191996</td>\n",
       "      <td>1.181237</td>\n",
       "      <td>0.396629</td>\n",
       "      <td>0.907858</td>\n",
       "      <td>0.718868</td>\n",
       "      <td>0.148144</td>\n",
       "      <td>-0.579554</td>\n",
       "      <td>0.118914</td>\n",
       "    </tr>\n",
       "  </tbody>\n",
       "</table>\n",
       "</div>"
      ],
      "text/plain": [
       "   RichDLLe  RichDLLk  RichDLLmu  RichDLLp  RichDLLbt  Brunel_P  Brunel_ETA  \\\n",
       "0 -0.137913  0.752415  -0.161572  1.969835   0.716873  0.336067    1.224999   \n",
       "1 -1.612356 -0.535916  -1.982668 -0.428717  -0.463100 -0.971959   -2.618654   \n",
       "2  0.932412  1.038359   0.608335  1.106957   1.048316 -1.021535    1.356614   \n",
       "3 -0.285678 -0.611991  -0.371452 -0.462490   0.056593  0.378037    0.119488   \n",
       "4  1.315785 -0.191996   1.181237  0.396629   0.907858  0.718868    0.148144   \n",
       "\n",
       "   nTracks_Brunel  probe_sWeight  \n",
       "0       -0.003146      -0.300134  \n",
       "1        0.166582       1.166070  \n",
       "2       -0.476306       0.665584  \n",
       "3        0.322746       0.290850  \n",
       "4       -0.579554       0.118914  "
      ]
     },
     "execution_count": 4,
     "metadata": {},
     "output_type": "execute_result"
    }
   ],
   "source": [
    "data_train.head()"
   ]
  },
  {
   "cell_type": "code",
   "execution_count": 5,
   "metadata": {},
   "outputs": [],
   "source": [
    "from itertools import repeat\n",
    "\n",
    "class ParticleSet(torch.utils.data.Dataset):\n",
    "    def __init__(self, data):\n",
    "        self.data = data\n",
    "    \n",
    "    def __len__(self):\n",
    "        return self.data.shape[0]\n",
    "    \n",
    "    def __getitem__(self, ind):\n",
    "        return (self.data[ind, utils_rich.y_count:-1], # X\n",
    "                self.data[ind, -1], # Weight\n",
    "                self.data[ind, :utils_rich.y_count], # DLL\n",
    "               )\n",
    "    \n",
    "train_loader = torch.utils.data.DataLoader(ParticleSet(data_train.values),\n",
    "                                                    batch_size=BATCH_SIZE,\n",
    "                                                    shuffle=True,\n",
    "                                                    pin_memory=True)\n",
    "\n",
    "val_loader = torch.utils.data.DataLoader(ParticleSet(data_val.values),\n",
    "                                                  batch_size=BATCH_SIZE_VAL,\n",
    "                                                  shuffle=False,\n",
    "                                                  pin_memory=True)"
   ]
  },
  {
   "cell_type": "markdown",
   "metadata": {},
   "source": [
    "## Model"
   ]
  },
  {
   "cell_type": "code",
   "execution_count": 6,
   "metadata": {},
   "outputs": [],
   "source": [
    "def get_noise(batch_size, mean=0, std=1):\n",
    "    return torch.zeros(batch_size, LATENT_DIMENSIONS).normal_(mean, std).to(device)\n",
    "\n",
    "class Generator(nn.Module):\n",
    "    def __init__(self, hidden_size=128, depth=5):\n",
    "        super(Generator, self).__init__()\n",
    "        self.layers = nn.Sequential(\n",
    "            nn.Linear(LATENT_DIMENSIONS + data_train.shape[1] - 1 - utils_rich.y_count, hidden_size),\n",
    "            nn.LeakyReLU(),\n",
    "            *[nn.Sequential(\n",
    "                nn.utils.weight_norm(nn.Linear(hidden_size, hidden_size)),\n",
    "                nn.LeakyReLU()) for _ in range(depth)\n",
    "             ],\n",
    "            nn.Linear(hidden_size, utils_rich.y_count),\n",
    "        )\n",
    "\n",
    "    def forward(self, x, noise=None):\n",
    "        return self.layers(torch.cat([x, get_noise(x.shape[0])], dim=1))\n",
    "\n",
    "    \n",
    "class Critic(nn.Module):\n",
    "    def __init__(self, hidden_size=128, depth=5):\n",
    "        super(Critic, self).__init__()\n",
    "        self.layers = nn.Sequential(\n",
    "            nn.Linear(data_train.shape[1] - 1, hidden_size),\n",
    "            nn.LeakyReLU(),\n",
    "            *[nn.Sequential(nn.Linear(hidden_size, hidden_size), nn.LeakyReLU()) for _ in range(depth)],\n",
    "            nn.Linear(hidden_size, 1),\n",
    "        )\n",
    "\n",
    "    def forward(self, x):\n",
    "        return self.layers(x)\n",
    "\n",
    "def init_weights(m):\n",
    "    if type(m) == nn.Linear:\n",
    "        torch.nn.init.xavier_uniform_(m.weight)\n",
    "        m.bias.data.fill_(0.01)"
   ]
  },
  {
   "cell_type": "code",
   "execution_count": 7,
   "metadata": {},
   "outputs": [],
   "source": [
    "netG = Generator(depth=NUM_LAYERS).to(device)\n",
    "netG.apply(init_weights)\n",
    "\n",
    "netC = Critic(depth=NUM_LAYERS).to(device)\n",
    "netC.apply(init_weights);"
   ]
  },
  {
   "cell_type": "code",
   "execution_count": 8,
   "metadata": {},
   "outputs": [],
   "source": [
    "optC = torch.optim.RMSprop(netC.parameters(), lr=0.00005) \n",
    "optG = torch.optim.RMSprop(netG.parameters(), lr=0.00005) "
   ]
  },
  {
   "cell_type": "code",
   "execution_count": 9,
   "metadata": {},
   "outputs": [
    {
     "data": {
      "text/plain": [
       "<All keys matched successfully>"
      ]
     },
     "execution_count": 9,
     "metadata": {},
     "output_type": "execute_result"
    }
   ],
   "source": [
    "netC.load_state_dict(torch.load('C_teacher_10_u.pth'))\n",
    "netG.load_state_dict(torch.load('G_teacher_10_u.pth'))"
   ]
  },
  {
   "cell_type": "markdown",
   "metadata": {},
   "source": [
    "## Train"
   ]
  },
  {
   "cell_type": "code",
   "execution_count": 11,
   "metadata": {},
   "outputs": [],
   "source": [
    "os.environ[\"WANDB_API_KEY\"] = \"f59a698ea7b8d90b5e714412120fe93da03c5234\""
   ]
  },
  {
   "cell_type": "code",
   "execution_count": 12,
   "metadata": {},
   "outputs": [
    {
     "name": "stderr",
     "output_type": "stream",
     "text": [
      "Failed to query for notebook name, you can set it manually with the WANDB_NOTEBOOK_NAME environment variable\n",
      "\u001b[34m\u001b[1mwandb\u001b[0m: Currently logged in as: \u001b[33mapshirokov\u001b[0m (use `wandb login --relogin` to force relogin)\n",
      "\u001b[34m\u001b[1mwandb\u001b[0m: wandb version 0.10.18 is available!  To upgrade, please run:\n",
      "\u001b[34m\u001b[1mwandb\u001b[0m:  $ pip install wandb --upgrade\n"
     ]
    },
    {
     "data": {
      "text/html": [
       "\n",
       "                Tracking run with wandb version 0.10.17<br/>\n",
       "                Syncing run <strong style=\"color:#cdcd00\">sparkling-wildflower-121</strong> to <a href=\"https://wandb.ai\" target=\"_blank\">Weights & Biases</a> <a href=\"https://docs.wandb.com/integrations/jupyter.html\" target=\"_blank\">(Documentation)</a>.<br/>\n",
       "                Project page: <a href=\"https://wandb.ai/apshirokov/rich-gan-distilling\" target=\"_blank\">https://wandb.ai/apshirokov/rich-gan-distilling</a><br/>\n",
       "                Run page: <a href=\"https://wandb.ai/apshirokov/rich-gan-distilling/runs/2rpn4dj9\" target=\"_blank\">https://wandb.ai/apshirokov/rich-gan-distilling/runs/2rpn4dj9</a><br/>\n",
       "                Run data is saved locally in <code>/datadrive/mrartemev/Students/Artemiy/RICH/research/wandb/run-20210211_111914-2rpn4dj9</code><br/><br/>\n",
       "            "
      ],
      "text/plain": [
       "<IPython.core.display.HTML object>"
      ]
     },
     "metadata": {},
     "output_type": "display_data"
    },
    {
     "data": {
      "text/html": [
       "<h1>Run(2rpn4dj9)</h1><iframe src=\"https://wandb.ai/apshirokov/rich-gan-distilling/runs/2rpn4dj9\" style=\"border:none;width:100%;height:400px\"></iframe>"
      ],
      "text/plain": [
       "<wandb.sdk.wandb_run.Run at 0x7fa7a95fa250>"
      ]
     },
     "execution_count": 12,
     "metadata": {},
     "output_type": "execute_result"
    }
   ],
   "source": [
    "# Weights & Biases\n",
    "wandb.init(project=\"rich-gan-distilling\")"
   ]
  },
  {
   "cell_type": "code",
   "execution_count": 11,
   "metadata": {},
   "outputs": [],
   "source": [
    "weight_cliping_limit = 0.015"
   ]
  },
  {
   "cell_type": "code",
   "execution_count": 34,
   "metadata": {},
   "outputs": [
    {
     "data": {
      "image/png": "[encoded data removed]",
      "text/plain": [
       "<Figure size 1080x1080 with 6 Axes>"
      ]
     },
     "metadata": {
      "needs_background": "light"
     },
     "output_type": "display_data"
    },
    {
     "name": "stderr",
     "output_type": "stream",
     "text": [
      " 51%|█████     | 1233/2440 [18:20:00<17:56:48, 53.53s/it]\n"
     ]
    },
    {
     "ename": "KeyboardInterrupt",
     "evalue": "",
     "output_type": "error",
     "traceback": [
      "\u001b[0;31m---------------------------------------------------------------------------\u001b[0m",
      "\u001b[0;31mKeyboardInterrupt\u001b[0m                         Traceback (most recent call last)",
      "\u001b[0;32m<ipython-input-34-bc9c44e25d56>\u001b[0m in \u001b[0;36m<module>\u001b[0;34m\u001b[0m\n\u001b[1;32m     27\u001b[0m             \u001b[0mcritic_loss\u001b[0m \u001b[0;34m=\u001b[0m \u001b[0;34m(\u001b[0m\u001b[0mfake_loss\u001b[0m\u001b[0;34m.\u001b[0m\u001b[0mmean\u001b[0m\u001b[0;34m(\u001b[0m\u001b[0;34m)\u001b[0m \u001b[0;34m-\u001b[0m \u001b[0mreal_loss\u001b[0m\u001b[0;34m.\u001b[0m\u001b[0mmean\u001b[0m\u001b[0;34m(\u001b[0m\u001b[0;34m)\u001b[0m\u001b[0;34m)\u001b[0m \u001b[0;34m*\u001b[0m \u001b[0mweight\u001b[0m\u001b[0;34m.\u001b[0m\u001b[0mmean\u001b[0m\u001b[0;34m(\u001b[0m\u001b[0;34m)\u001b[0m\u001b[0;34m\u001b[0m\u001b[0;34m\u001b[0m\u001b[0m\n\u001b[1;32m     28\u001b[0m             \u001b[0mcritic_loss\u001b[0m\u001b[0;34m.\u001b[0m\u001b[0mbackward\u001b[0m\u001b[0;34m(\u001b[0m\u001b[0;34m)\u001b[0m\u001b[0;34m\u001b[0m\u001b[0;34m\u001b[0m\u001b[0m\n\u001b[0;32m---> 29\u001b[0;31m             \u001b[0moptC\u001b[0m\u001b[0;34m.\u001b[0m\u001b[0mstep\u001b[0m\u001b[0;34m(\u001b[0m\u001b[0;34m)\u001b[0m\u001b[0;34m\u001b[0m\u001b[0;34m\u001b[0m\u001b[0m\n\u001b[0m\u001b[1;32m     30\u001b[0m \u001b[0;34m\u001b[0m\u001b[0m\n\u001b[1;32m     31\u001b[0m             \u001b[0mwandb\u001b[0m\u001b[0;34m.\u001b[0m\u001b[0mlog\u001b[0m\u001b[0;34m(\u001b[0m\u001b[0;34m{\u001b[0m\u001b[0;34m\"Critic loss\"\u001b[0m\u001b[0;34m:\u001b[0m \u001b[0mcritic_loss\u001b[0m\u001b[0;34m.\u001b[0m\u001b[0mitem\u001b[0m\u001b[0;34m(\u001b[0m\u001b[0;34m)\u001b[0m\u001b[0;34m}\u001b[0m\u001b[0;34m)\u001b[0m\u001b[0;34m\u001b[0m\u001b[0;34m\u001b[0m\u001b[0m\n",
      "\u001b[0;32m~/.local/lib/python3.7/site-packages/torch/autograd/grad_mode.py\u001b[0m in \u001b[0;36mdecorate_context\u001b[0;34m(*args, **kwargs)\u001b[0m\n\u001b[1;32m     24\u001b[0m         \u001b[0;32mdef\u001b[0m \u001b[0mdecorate_context\u001b[0m\u001b[0;34m(\u001b[0m\u001b[0;34m*\u001b[0m\u001b[0margs\u001b[0m\u001b[0;34m,\u001b[0m \u001b[0;34m**\u001b[0m\u001b[0mkwargs\u001b[0m\u001b[0;34m)\u001b[0m\u001b[0;34m:\u001b[0m\u001b[0;34m\u001b[0m\u001b[0;34m\u001b[0m\u001b[0m\n\u001b[1;32m     25\u001b[0m             \u001b[0;32mwith\u001b[0m \u001b[0mself\u001b[0m\u001b[0;34m.\u001b[0m\u001b[0m__class__\u001b[0m\u001b[0;34m(\u001b[0m\u001b[0;34m)\u001b[0m\u001b[0;34m:\u001b[0m\u001b[0;34m\u001b[0m\u001b[0;34m\u001b[0m\u001b[0m\n\u001b[0;32m---> 26\u001b[0;31m                 \u001b[0;32mreturn\u001b[0m \u001b[0mfunc\u001b[0m\u001b[0;34m(\u001b[0m\u001b[0;34m*\u001b[0m\u001b[0margs\u001b[0m\u001b[0;34m,\u001b[0m \u001b[0;34m**\u001b[0m\u001b[0mkwargs\u001b[0m\u001b[0;34m)\u001b[0m\u001b[0;34m\u001b[0m\u001b[0;34m\u001b[0m\u001b[0m\n\u001b[0m\u001b[1;32m     27\u001b[0m         \u001b[0;32mreturn\u001b[0m \u001b[0mcast\u001b[0m\u001b[0;34m(\u001b[0m\u001b[0mF\u001b[0m\u001b[0;34m,\u001b[0m \u001b[0mdecorate_context\u001b[0m\u001b[0;34m)\u001b[0m\u001b[0;34m\u001b[0m\u001b[0;34m\u001b[0m\u001b[0m\n\u001b[1;32m     28\u001b[0m \u001b[0;34m\u001b[0m\u001b[0m\n",
      "\u001b[0;32m~/.local/lib/python3.7/site-packages/torch/optim/rmsprop.py\u001b[0m in \u001b[0;36mstep\u001b[0;34m(self, closure)\u001b[0m\n\u001b[1;32m     92\u001b[0m                     \u001b[0mgrad\u001b[0m \u001b[0;34m=\u001b[0m \u001b[0mgrad\u001b[0m\u001b[0;34m.\u001b[0m\u001b[0madd\u001b[0m\u001b[0;34m(\u001b[0m\u001b[0mp\u001b[0m\u001b[0;34m,\u001b[0m \u001b[0malpha\u001b[0m\u001b[0;34m=\u001b[0m\u001b[0mgroup\u001b[0m\u001b[0;34m[\u001b[0m\u001b[0;34m'weight_decay'\u001b[0m\u001b[0;34m]\u001b[0m\u001b[0;34m)\u001b[0m\u001b[0;34m\u001b[0m\u001b[0;34m\u001b[0m\u001b[0m\n\u001b[1;32m     93\u001b[0m \u001b[0;34m\u001b[0m\u001b[0m\n\u001b[0;32m---> 94\u001b[0;31m                 \u001b[0msquare_avg\u001b[0m\u001b[0;34m.\u001b[0m\u001b[0mmul_\u001b[0m\u001b[0;34m(\u001b[0m\u001b[0malpha\u001b[0m\u001b[0;34m)\u001b[0m\u001b[0;34m.\u001b[0m\u001b[0maddcmul_\u001b[0m\u001b[0;34m(\u001b[0m\u001b[0mgrad\u001b[0m\u001b[0;34m,\u001b[0m \u001b[0mgrad\u001b[0m\u001b[0;34m,\u001b[0m \u001b[0mvalue\u001b[0m\u001b[0;34m=\u001b[0m\u001b[0;36m1\u001b[0m \u001b[0;34m-\u001b[0m \u001b[0malpha\u001b[0m\u001b[0;34m)\u001b[0m\u001b[0;34m\u001b[0m\u001b[0;34m\u001b[0m\u001b[0m\n\u001b[0m\u001b[1;32m     95\u001b[0m \u001b[0;34m\u001b[0m\u001b[0m\n\u001b[1;32m     96\u001b[0m                 \u001b[0;32mif\u001b[0m \u001b[0mgroup\u001b[0m\u001b[0;34m[\u001b[0m\u001b[0;34m'centered'\u001b[0m\u001b[0;34m]\u001b[0m\u001b[0;34m:\u001b[0m\u001b[0;34m\u001b[0m\u001b[0;34m\u001b[0m\u001b[0m\n",
      "\u001b[0;31mKeyboardInterrupt\u001b[0m: "
     ]
    }
   ],
   "source": [
    "iteration = 0\n",
    "for _ in tqdm(range(TOTAL_ITERATIONS*10), position=0, leave=True):\n",
    "    for x, weight, dll in train_loader:\n",
    "        iteration += 1\n",
    "        \n",
    "        x = x.to(device)\n",
    "        weight = weight.to(device)\n",
    "        dll = dll.to(device)\n",
    "        real_row = torch.cat([dll, x], dim=1)\n",
    "        \n",
    "        if iteration % CRITIC_ITERATIONS_CONST != 0:\n",
    "            \n",
    "            # Clamp parameters to a range [-c, c], c=self.weight_cliping_limit\n",
    "            for p in netC.parameters():\n",
    "                p.data.clamp_(-weight_cliping_limit, weight_cliping_limit)\n",
    "            \n",
    "            optC.zero_grad()\n",
    "\n",
    "            netG.eval()\n",
    "            netC.train()\n",
    "\n",
    "            real_loss = netC(real_row)\n",
    "            fake_dll = netG(x).detach()\n",
    "            fake_row = torch.cat([fake_dll, x], dim=1)\n",
    "            fake_loss = netC(fake_row)\n",
    "            \n",
    "            critic_loss = (fake_loss.mean() - real_loss.mean()) * weight.mean()\n",
    "            critic_loss.backward()\n",
    "            optC.step()\n",
    "            \n",
    "            wandb.log({\"Critic loss\": critic_loss.item()})\n",
    "        else:\n",
    "            netC.eval()\n",
    "            netG.train()\n",
    "\n",
    "            optG.zero_grad()\n",
    "\n",
    "            fake_dll = netG(x)\n",
    "            fake_row = torch.cat([fake_dll, x], dim=1)\n",
    "            generator_loss = -netC(fake_row).mean() * weight.mean()\n",
    "            \n",
    "            generator_loss.backward()\n",
    "            optG.step()\n",
    "            \n",
    "            wandb.log({\"Generator loss\": generator_loss.item()})\n",
    "\n",
    "        if iteration % VALIDATION_INTERVAL == 0:\n",
    "            clear_output(False)\n",
    "            torch.save(netG.state_dict(),f'G_teacher_10_u.pth')\n",
    "            torch.save(netC.state_dict(),f'C_teacher_10_u.pth')\n",
    "\n",
    "            dlls = None\n",
    "            generated = None\n",
    "            weights = None\n",
    "\n",
    "            with torch.no_grad():\n",
    "                for x, weight, real in val_loader:\n",
    "                    weight = weight.detach().cpu().numpy()\n",
    "                    dll = real.detach().cpu().numpy()\n",
    "                    x = x.to(device)\n",
    "                    gen = netG(x).detach().cpu().numpy()\n",
    "\n",
    "                    if dlls is None:\n",
    "                        dlls = dll\n",
    "                    else:\n",
    "                        dlls = np.concatenate((dlls, dll))\n",
    "\n",
    "                    if weights is None:\n",
    "                        weights = weight\n",
    "                    else:\n",
    "                        weights = np.concatenate((weights, weight))\n",
    "\n",
    "                    if generated is None:\n",
    "                        generated = gen\n",
    "                    else:\n",
    "                        generated = np.concatenate((generated, gen))\n",
    "\n",
    "                fig, axes = plt.subplots(3, 2, figsize=(15, 15))\n",
    "                for particle_type, ax in zip((0, 1, 2, 3, 4), axes.flatten()):\n",
    "                    sns.distplot(dlls[:, particle_type], hist_kws={'weights': weights, 'alpha': 1}, kde=False, bins=100, ax=ax, label=\"real\", norm_hist=True)\n",
    "                    sns.distplot(generated[:, particle_type], hist_kws={'weights': weights, 'alpha': 0.5}, kde=False, bins=100, ax=ax, label=\"gen\", norm_hist=True)\n",
    "                    ax.legend()\n",
    "                    ax.set_title(utils_rich.dll_columns[particle_type])\n",
    "\n",
    "                plt.show()"
   ]
  },
  {
   "cell_type": "markdown",
   "metadata": {},
   "source": [
    "## Plot"
   ]
  },
  {
   "cell_type": "code",
   "execution_count": 20,
   "metadata": {},
   "outputs": [
    {
     "data": {
      "image/png": "[encoded data removed]",
      "text/plain": [
       "<Figure size 1080x1080 with 6 Axes>"
      ]
     },
     "metadata": {
      "needs_background": "light"
     },
     "output_type": "display_data"
    }
   ],
   "source": [
    "dlls = None\n",
    "generated = None\n",
    "weights = None\n",
    "xx = None\n",
    "\n",
    "with torch.no_grad():\n",
    "    for x, weight, real in val_loader:\n",
    "        weight = weight.detach().cpu().numpy()\n",
    "        dll = real.detach().cpu().numpy()[:,:utils_rich.y_count]\n",
    "        x = x.to(device)\n",
    "        gen = netG(x).detach().cpu().numpy()\n",
    "        x = x.detach().cpu().numpy()\n",
    "        \n",
    "        if xx is None:\n",
    "            xx = x\n",
    "        else:\n",
    "            xx = np.concatenate((xx, x))\n",
    "\n",
    "        if dlls is None:\n",
    "            dlls = dll\n",
    "        else:\n",
    "            dlls = np.concatenate((dlls, dll))\n",
    "\n",
    "        if weights is None:\n",
    "            weights = weight\n",
    "        else:\n",
    "            weights = np.concatenate((weights, weight))\n",
    "\n",
    "        if generated is None:\n",
    "            generated = gen\n",
    "        else:\n",
    "            generated = np.concatenate((generated, gen))\n",
    "\n",
    "    fig, axes = plt.subplots(3, 2, figsize=(15, 15))\n",
    "    for particle_type, ax in zip((0, 1, 2, 3, 4), axes.flatten()):\n",
    "        sns.distplot(dlls[:, particle_type], hist_kws={'weights': weights, 'alpha': 1}, kde=False, bins=100, ax=ax, label=\"real\", norm_hist=True)\n",
    "        sns.distplot(generated[:, particle_type], hist_kws={'weights': weights, 'alpha': 0.5}, kde=False, bins=100, ax=ax, label=\"gen\", norm_hist=True)\n",
    "        ax.legend()\n",
    "        ax.set_title(utils_rich.dll_columns[particle_type])\n",
    "\n",
    "    plt.show()"
   ]
  },
  {
   "cell_type": "code",
   "execution_count": 11,
   "metadata": {},
   "outputs": [],
   "source": [
    "df = pd.DataFrame()\n",
    "for i in range(len(utils_rich.dll_columns)):\n",
    "    df[utils_rich.dll_columns[i]] = np.hstack((dlls[:, i], generated[:, i]))\n",
    "df['generated'] = [0 if i > dlls.shape[0] else 1 for i in range(dlls.shape[0] * 2)]"
   ]
  },
  {
   "cell_type": "code",
   "execution_count": null,
   "metadata": {},
   "outputs": [],
   "source": [
    "size = 50000\n",
    "cropped_df = pd.concat([df[:size], df[dlls.shape[0]:dlls.shape[0]+size]])\n",
    "\n",
    "fig, axes = plt.subplots(5, 5, figsize=(20, 20))\n",
    "for i in range(len(utils_rich.dll_columns)):\n",
    "    for j in range(len(utils_rich.dll_columns)):\n",
    "        sns.jointplot(x=utils_rich.dll_columns[i], y=utils_rich.dll_columns[j], data=cropped_df, hue='generated', alpha=.3, ax=axes[i, j])\n",
    "\n",
    "fig.savefig('aa.png')"
   ]
  },
  {
   "cell_type": "markdown",
   "metadata": {},
   "source": [
    "## Catboost"
   ]
  },
  {
   "cell_type": "code",
   "execution_count": 36,
   "metadata": {},
   "outputs": [
    {
     "data": {
      "text/plain": [
       "array([[1.        , 2.36162996],\n",
       "       [1.        , 2.60510492],\n",
       "       [1.        , 3.23419476],\n",
       "       ...,\n",
       "       [0.        , 2.559129  ],\n",
       "       [0.        , 2.85117149],\n",
       "       [0.        , 1.24782872]])"
      ]
     },
     "execution_count": 36,
     "metadata": {},
     "output_type": "execute_result"
    }
   ],
   "source": [
    "from sklearn.model_selection import train_test_split\n",
    "from catboost import CatBoostClassifier\n",
    "\n",
    "y = [1] * dlls.shape[0]\n",
    "y.extend(list([0] * generated.shape[0]))\n",
    "exp = np.exp(weights)\n",
    "y_weights = np.concatenate((exp, exp), axis=0)\n",
    "X = np.concatenate((dlls, generated))\n",
    "\n",
    "y = np.expand_dims(y, axis=1)\n",
    "y_weights = np.expand_dims(y_weights, axis=1)\n",
    "y = np.concatenate((y, y_weights), axis=1)\n",
    "y"
   ]
  },
  {
   "cell_type": "code",
   "execution_count": 37,
   "metadata": {},
   "outputs": [],
   "source": [
    "X_train, X_test, y_train, y_test = train_test_split(X, y, test_size=0.33, random_state=42, shuffle=True)"
   ]
  },
  {
   "cell_type": "code",
   "execution_count": 38,
   "metadata": {},
   "outputs": [
    {
     "name": "stderr",
     "output_type": "stream",
     "text": [
      "Warning: less than 75% gpu memory available for training. Free: 7589.25 Total: 11441.1875\n"
     ]
    }
   ],
   "source": [
    "classifier = CatBoostClassifier(iterations=1000,\n",
    "                custom_metric=['Logloss', 'AUC'],\n",
    "                task_type=\"GPU\",\n",
    "                devices='0:1')\n",
    "\n",
    "train_data = Pool(data=X_train,\n",
    "                  label=y_train[:,0],\n",
    "                  weight=y_train[:,1])\n",
    "\n",
    "classifier.fit(train_data,\n",
    "                verbose=False,\n",
    "                plot=False);"
   ]
  },
  {
   "cell_type": "code",
   "execution_count": 39,
   "metadata": {},
   "outputs": [],
   "source": [
    "predicted = classifier.predict(X_test)"
   ]
  },
  {
   "cell_type": "code",
   "execution_count": 40,
   "metadata": {},
   "outputs": [
    {
     "data": {
      "text/plain": [
       "0.6932376932683479"
      ]
     },
     "execution_count": 40,
     "metadata": {},
     "output_type": "execute_result"
    }
   ],
   "source": [
    "from sklearn import metrics\n",
    "\n",
    "fpr, tpr, thresholds = metrics.roc_curve(y_test[:,0], predicted, pos_label=1, sample_weight=y_test[:,1])\n",
    "metrics.auc(fpr, tpr)"
   ]
  },
  {
   "cell_type": "markdown",
   "metadata": {},
   "source": [
    "## Inversed"
   ]
  },
  {
   "cell_type": "code",
   "execution_count": 41,
   "metadata": {},
   "outputs": [],
   "source": [
    "from sklearn.model_selection import train_test_split\n",
    "from catboost import CatBoostClassifier\n",
    "\n",
    "y = [1] * dlls.shape[0]\n",
    "y.extend(list([0] * generated.shape[0]))\n",
    "exp = np.exp(weights)\n",
    "y_weights = np.concatenate((exp, exp), axis=0)\n",
    "xx = np.concatenate((xx, xx), axis=0)\n",
    "dlls = np.concatenate((dlls, generated))\n",
    "X = np.column_stack((dlls, xx))"
   ]
  },
  {
   "cell_type": "code",
   "execution_count": 42,
   "metadata": {},
   "outputs": [
    {
     "name": "stderr",
     "output_type": "stream",
     "text": [
      "/home/mrartemev/.local/lib/python3.7/site-packages/seaborn/distributions.py:2551: FutureWarning: `distplot` is a deprecated function and will be removed in a future version. Please adapt your code to use either `displot` (a figure-level function with similar flexibility) or `histplot` (an axes-level function for histograms).\n",
      "  warnings.warn(msg, FutureWarning)\n"
     ]
    },
    {
     "data": {
      "image/png": "[encoded data removed]",
      "text/plain": [
       "<Figure size 1080x1080 with 6 Axes>"
      ]
     },
     "metadata": {
      "needs_background": "light"
     },
     "output_type": "display_data"
    }
   ],
   "source": [
    "X = scaler.inverse_transform(X)\n",
    "\n",
    "fig, axes = plt.subplots(3, 2, figsize=(15, 15))\n",
    "for particle_type, ax in zip((0, 1, 2, 3, 4), axes.flatten()):\n",
    "    sns.distplot(X[:len(X) // 2, particle_type], hist_kws={'weights': weights, 'alpha': 1}, kde=False, bins=100, ax=ax, label=\"real\", norm_hist=True)\n",
    "    sns.distplot(X[len(X) // 2:, particle_type], hist_kws={'weights': weights, 'alpha': 0.5}, kde=False, bins=100, ax=ax, label=\"gen\", norm_hist=True)\n",
    "    ax.legend()\n",
    "    ax.set_title(utils_rich.dll_columns[particle_type])\n",
    "\n",
    "plt.show()"
   ]
  },
  {
   "cell_type": "code",
   "execution_count": 43,
   "metadata": {},
   "outputs": [
    {
     "data": {
      "text/plain": [
       "array([[1.        , 2.36162996],\n",
       "       [1.        , 2.60510492],\n",
       "       [1.        , 3.23419476],\n",
       "       ...,\n",
       "       [0.        , 2.559129  ],\n",
       "       [0.        , 2.85117149],\n",
       "       [0.        , 1.24782872]])"
      ]
     },
     "execution_count": 43,
     "metadata": {},
     "output_type": "execute_result"
    }
   ],
   "source": [
    "X = scaler.inverse_transform(X)\n",
    "X = X[:, :-3]\n",
    "\n",
    "y = np.expand_dims(y, axis=1)\n",
    "y_weights = np.expand_dims(y_weights, axis=1)\n",
    "y = np.concatenate((y, y_weights), axis=1)\n",
    "y"
   ]
  },
  {
   "cell_type": "code",
   "execution_count": 44,
   "metadata": {},
   "outputs": [],
   "source": [
    "X_train, X_test, y_train, y_test = train_test_split(X, y, test_size=0.33, random_state=42, shuffle=True)"
   ]
  },
  {
   "cell_type": "code",
   "execution_count": 45,
   "metadata": {},
   "outputs": [
    {
     "name": "stderr",
     "output_type": "stream",
     "text": [
      "Warning: less than 75% gpu memory available for training. Free: 7589.25 Total: 11441.1875\n"
     ]
    }
   ],
   "source": [
    "classifier = CatBoostClassifier(iterations=1000,\n",
    "                custom_metric=['Logloss', 'AUC'],\n",
    "                task_type=\"GPU\",\n",
    "                devices='0:1')\n",
    "\n",
    "train_data = Pool(data=X_train,\n",
    "                  label=y_train[:,0],\n",
    "                  weight=y_train[:,1])\n",
    "\n",
    "classifier.fit(train_data,\n",
    "                verbose=False,\n",
    "                plot=False);"
   ]
  },
  {
   "cell_type": "code",
   "execution_count": 46,
   "metadata": {},
   "outputs": [],
   "source": [
    "predicted = classifier.predict(X_test)"
   ]
  },
  {
   "cell_type": "code",
   "execution_count": 47,
   "metadata": {},
   "outputs": [
    {
     "data": {
      "text/plain": [
       "0.6072982649812552"
      ]
     },
     "execution_count": 47,
     "metadata": {},
     "output_type": "execute_result"
    }
   ],
   "source": [
    "from sklearn import metrics\n",
    "\n",
    "fpr, tpr, thresholds = metrics.roc_curve(y_test[:,0], predicted, pos_label=1, sample_weight=y_test[:,1])\n",
    "metrics.auc(fpr, tpr)"
   ]
  },
  {
   "cell_type": "code",
   "execution_count": null,
   "metadata": {},
   "outputs": [],
   "source": []
  }
 ],
 "metadata": {
  "kernelspec": {
   "display_name": "Python 3",
   "language": "python",
   "name": "python3"
  },
  "language_info": {
   "codemirror_mode": {
    "name": "ipython",
    "version": 3
   },
   "file_extension": ".py",
   "mimetype": "text/x-python",
   "name": "python",
   "nbconvert_exporter": "python",
   "pygments_lexer": "ipython3",
   "version": "3.7.9"
  },
  "varInspector": {
   "cols": {
    "lenName": 16,
    "lenType": 16,
    "lenVar": 40
   },
   "kernels_config": {
    "python": {
     "delete_cmd_postfix": "",
     "delete_cmd_prefix": "del ",
     "library": "var_list.py",
     "varRefreshCmd": "print(var_dic_list())"
    },
    "r": {
     "delete_cmd_postfix": ") ",
     "delete_cmd_prefix": "rm(",
     "library": "var_list.r",
     "varRefreshCmd": "cat(var_dic_list()) "
    }
   },
   "types_to_exclude": [
    "module",
    "function",
    "builtin_function_or_method",
    "instance",
    "_Feature"
   ],
   "window_display": false
  }
 },
 "nbformat": 4,
 "nbformat_minor": 4
}
